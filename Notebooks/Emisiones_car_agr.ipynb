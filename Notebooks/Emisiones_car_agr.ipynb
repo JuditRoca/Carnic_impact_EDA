{
 "cells": [
  {
   "cell_type": "code",
   "execution_count": 243,
   "metadata": {},
   "outputs": [],
   "source": [
    "import seaborn as sns\n",
    "import pandas as pd\n",
    "import numpy as np\n",
    "import matplotlib.pyplot as plt\n",
    "import plotly.graph_objects as go\n",
    "from ipywidgets import widgets\n",
    "import plotly.graph_objs as go\n",
    "import plotly.offline as offline"
   ]
  },
  {
   "attachments": {},
   "cell_type": "markdown",
   "metadata": {},
   "source": [
    "## LIMPIEZA Y CREACION DF EMISIONES CARNICOS + AGRICULTURA"
   ]
  },
  {
   "cell_type": "code",
   "execution_count": 124,
   "metadata": {},
   "outputs": [
    {
     "name": "stdout",
     "output_type": "stream",
     "text": [
      "<class 'pandas.core.frame.DataFrame'>\n",
      "RangeIndex: 18478 entries, 0 to 18477\n",
      "Data columns (total 10 columns):\n",
      " #   Column       Non-Null Count  Dtype  \n",
      "---  ------       --------------  -----  \n",
      " 0   DATAFLOW     18478 non-null  object \n",
      " 1   LAST UPDATE  18478 non-null  object \n",
      " 2   freq         18478 non-null  object \n",
      " 3   unit         18478 non-null  object \n",
      " 4   airpol       18478 non-null  object \n",
      " 5   src_crf      18478 non-null  object \n",
      " 6   geo          18478 non-null  object \n",
      " 7   TIME_PERIOD  18478 non-null  int64  \n",
      " 8   OBS_VALUE    15088 non-null  float64\n",
      " 9   OBS_FLAG     3390 non-null   object \n",
      "dtypes: float64(1), int64(1), object(8)\n",
      "memory usage: 1.4+ MB\n"
     ]
    }
   ],
   "source": [
    "df_original=pd.read_csv(\"Data\\EU_total_emissions.csv\")\n",
    "df_original.info()"
   ]
  },
  {
   "cell_type": "code",
   "execution_count": 125,
   "metadata": {},
   "outputs": [],
   "source": [
    "#Eliminamos columnas con datos no relevantes\n",
    "df_original.drop(columns=[\"OBS_FLAG\", \"DATAFLOW\",\"LAST UPDATE\", \"freq\",\"unit\", \"airpol\"], inplace=True)"
   ]
  },
  {
   "cell_type": "code",
   "execution_count": 126,
   "metadata": {},
   "outputs": [],
   "source": [
    "df_original.rename(columns={\"geo\": \"Pais\", \"TIME_PERIOD\": \"Año\"}, inplace=True)"
   ]
  },
  {
   "attachments": {},
   "cell_type": "markdown",
   "metadata": {},
   "source": [
    "### filtramos para quedarnos solo con los datos de emisiones agricultura y carnicos"
   ]
  },
  {
   "cell_type": "code",
   "execution_count": 122,
   "metadata": {},
   "outputs": [
    {
     "name": "stdout",
     "output_type": "stream",
     "text": [
      "<class 'pandas.core.frame.DataFrame'>\n",
      "RangeIndex: 620 entries, 0 to 619\n",
      "Data columns (total 4 columns):\n",
      " #   Column     Non-Null Count  Dtype  \n",
      "---  ------     --------------  -----  \n",
      " 0   src_crf    620 non-null    object \n",
      " 1   Pais       620 non-null    object \n",
      " 2   Año        620 non-null    int64  \n",
      " 3   OBS_VALUE  620 non-null    float64\n",
      "dtypes: float64(1), int64(1), object(2)\n",
      "memory usage: 19.5+ KB\n"
     ]
    }
   ],
   "source": [
    "carnic_emisiones = df_original[df_original[\"src_crf\"] == 'Livestock'].copy()  #solo carnicos\n",
    "carnic_emisiones= carnic_emisiones.reset_index(drop=True)   #limpiamos index\n",
    "carnic_emisiones.info()"
   ]
  },
  {
   "cell_type": "code",
   "execution_count": 128,
   "metadata": {},
   "outputs": [],
   "source": [
    "carnic_emisiones.rename(columns={\"OBS_VALUE\":\"Emisiones Carnicos\"}, inplace=True)"
   ]
  },
  {
   "cell_type": "code",
   "execution_count": 129,
   "metadata": {},
   "outputs": [],
   "source": [
    "carnic_emisiones.drop(columns=[\"src_crf\"], inplace = True)"
   ]
  },
  {
   "attachments": {},
   "cell_type": "markdown",
   "metadata": {},
   "source": [
    "### Agricultura"
   ]
  },
  {
   "cell_type": "code",
   "execution_count": 43,
   "metadata": {},
   "outputs": [
    {
     "name": "stdout",
     "output_type": "stream",
     "text": [
      "<class 'pandas.core.frame.DataFrame'>\n",
      "Int64Index: 620 entries, 0 to 9548\n",
      "Data columns (total 4 columns):\n",
      " #   Column     Non-Null Count  Dtype  \n",
      "---  ------     --------------  -----  \n",
      " 0   src_crf    620 non-null    object \n",
      " 1   Pais       620 non-null    object \n",
      " 2   Año        620 non-null    int64  \n",
      " 3   OBS_VALUE  620 non-null    float64\n",
      "dtypes: float64(1), int64(1), object(2)\n",
      "memory usage: 24.2+ KB\n"
     ]
    }
   ],
   "source": [
    "agri_emisiones = df_original[df_original[\"src_crf\"] == 'Agriculture'].copy() #solo agricultura\n",
    "agri_emisiones.info()\n"
   ]
  },
  {
   "cell_type": "code",
   "execution_count": 44,
   "metadata": {},
   "outputs": [],
   "source": [
    "agri_emisiones.rename(columns={\"OBS_VALUE\":\"Emisiones Agricultura\", \"geo\": \"Pais\", \"TIME_PERIOD\": \"Año\"}, inplace=True)\n"
   ]
  },
  {
   "cell_type": "code",
   "execution_count": 45,
   "metadata": {},
   "outputs": [],
   "source": [
    "agri_emisiones.drop(columns=[\"src_crf\"], inplace=True)\n"
   ]
  },
  {
   "cell_type": "code",
   "execution_count": 46,
   "metadata": {},
   "outputs": [
    {
     "data": {
      "text/html": [
       "<div>\n",
       "<style scoped>\n",
       "    .dataframe tbody tr th:only-of-type {\n",
       "        vertical-align: middle;\n",
       "    }\n",
       "\n",
       "    .dataframe tbody tr th {\n",
       "        vertical-align: top;\n",
       "    }\n",
       "\n",
       "    .dataframe thead th {\n",
       "        text-align: right;\n",
       "    }\n",
       "</style>\n",
       "<table border=\"1\" class=\"dataframe\">\n",
       "  <thead>\n",
       "    <tr style=\"text-align: right;\">\n",
       "      <th></th>\n",
       "      <th>Emisiones Carnicos</th>\n",
       "    </tr>\n",
       "  </thead>\n",
       "  <tbody>\n",
       "    <tr>\n",
       "      <th>0</th>\n",
       "      <td>5.31348</td>\n",
       "    </tr>\n",
       "    <tr>\n",
       "      <th>1</th>\n",
       "      <td>5.34052</td>\n",
       "    </tr>\n",
       "    <tr>\n",
       "      <th>2</th>\n",
       "      <td>5.37856</td>\n",
       "    </tr>\n",
       "    <tr>\n",
       "      <th>3</th>\n",
       "      <td>5.39946</td>\n",
       "    </tr>\n",
       "    <tr>\n",
       "      <th>4</th>\n",
       "      <td>5.42585</td>\n",
       "    </tr>\n",
       "    <tr>\n",
       "      <th>...</th>\n",
       "      <td>...</td>\n",
       "    </tr>\n",
       "    <tr>\n",
       "      <th>615</th>\n",
       "      <td>1377.36000</td>\n",
       "    </tr>\n",
       "    <tr>\n",
       "      <th>616</th>\n",
       "      <td>1380.79000</td>\n",
       "    </tr>\n",
       "    <tr>\n",
       "      <th>617</th>\n",
       "      <td>1341.08000</td>\n",
       "    </tr>\n",
       "    <tr>\n",
       "      <th>618</th>\n",
       "      <td>1313.41000</td>\n",
       "    </tr>\n",
       "    <tr>\n",
       "      <th>619</th>\n",
       "      <td>1273.13000</td>\n",
       "    </tr>\n",
       "  </tbody>\n",
       "</table>\n",
       "<p>620 rows × 1 columns</p>\n",
       "</div>"
      ],
      "text/plain": [
       "     Emisiones Carnicos\n",
       "0               5.31348\n",
       "1               5.34052\n",
       "2               5.37856\n",
       "3               5.39946\n",
       "4               5.42585\n",
       "..                  ...\n",
       "615          1377.36000\n",
       "616          1380.79000\n",
       "617          1341.08000\n",
       "618          1313.41000\n",
       "619          1273.13000\n",
       "\n",
       "[620 rows x 1 columns]"
      ]
     },
     "execution_count": 46,
     "metadata": {},
     "output_type": "execute_result"
    }
   ],
   "source": [
    "nueva = carnic_emisiones[[\"Emisiones Carnicos\"] ].copy()\n",
    "nueva= nueva.reset_index()\n",
    "nueva.drop(columns=[\"index\"], inplace=True)\n",
    "nueva     #aislamos emisiones carnicas para unirla a agricultura"
   ]
  },
  {
   "cell_type": "code",
   "execution_count": 24,
   "metadata": {},
   "outputs": [],
   "source": [
    "agri_car_emision = pd.concat([agri_emisiones, nueva], axis=1) #declaramos variable con carnicos+atgricul\n",
    "\n"
   ]
  },
  {
   "cell_type": "code",
   "execution_count": 159,
   "metadata": {},
   "outputs": [],
   "source": [
    "#Uno de los data frames hacia duplicado de valores, al juntarlos ese duplicado presetna un Nan en \n",
    "#emisiones agr x lo que elimino los duplicados \n",
    "agri_car_emision.dropna(inplace=True)"
   ]
  },
  {
   "cell_type": "code",
   "execution_count": 160,
   "metadata": {},
   "outputs": [
    {
     "data": {
      "text/html": [
       "<div>\n",
       "<style scoped>\n",
       "    .dataframe tbody tr th:only-of-type {\n",
       "        vertical-align: middle;\n",
       "    }\n",
       "\n",
       "    .dataframe tbody tr th {\n",
       "        vertical-align: top;\n",
       "    }\n",
       "\n",
       "    .dataframe thead th {\n",
       "        text-align: right;\n",
       "    }\n",
       "</style>\n",
       "<table border=\"1\" class=\"dataframe\">\n",
       "  <thead>\n",
       "    <tr style=\"text-align: right;\">\n",
       "      <th></th>\n",
       "      <th>Pais</th>\n",
       "      <th>Año</th>\n",
       "      <th>Emisiones Agricultura</th>\n",
       "      <th>Emisiones Carnicos</th>\n",
       "    </tr>\n",
       "  </thead>\n",
       "  <tbody>\n",
       "    <tr>\n",
       "      <th>0</th>\n",
       "      <td>Austria</td>\n",
       "      <td>2012.0</td>\n",
       "      <td>7.21242</td>\n",
       "      <td>5.31348</td>\n",
       "    </tr>\n",
       "    <tr>\n",
       "      <th>1</th>\n",
       "      <td>Austria</td>\n",
       "      <td>2013.0</td>\n",
       "      <td>7.21117</td>\n",
       "      <td>5.34052</td>\n",
       "    </tr>\n",
       "    <tr>\n",
       "      <th>2</th>\n",
       "      <td>Austria</td>\n",
       "      <td>2014.0</td>\n",
       "      <td>7.34622</td>\n",
       "      <td>5.37856</td>\n",
       "    </tr>\n",
       "    <tr>\n",
       "      <th>3</th>\n",
       "      <td>Austria</td>\n",
       "      <td>2015.0</td>\n",
       "      <td>7.37600</td>\n",
       "      <td>5.39946</td>\n",
       "    </tr>\n",
       "    <tr>\n",
       "      <th>4</th>\n",
       "      <td>Austria</td>\n",
       "      <td>2016.0</td>\n",
       "      <td>7.48882</td>\n",
       "      <td>5.42585</td>\n",
       "    </tr>\n",
       "    <tr>\n",
       "      <th>...</th>\n",
       "      <td>...</td>\n",
       "      <td>...</td>\n",
       "      <td>...</td>\n",
       "      <td>...</td>\n",
       "    </tr>\n",
       "    <tr>\n",
       "      <th>305</th>\n",
       "      <td>Slovakia</td>\n",
       "      <td>2017.0</td>\n",
       "      <td>2.49206</td>\n",
       "      <td>1.37736</td>\n",
       "    </tr>\n",
       "    <tr>\n",
       "      <th>306</th>\n",
       "      <td>Slovakia</td>\n",
       "      <td>2018.0</td>\n",
       "      <td>2.51248</td>\n",
       "      <td>1.38079</td>\n",
       "    </tr>\n",
       "    <tr>\n",
       "      <th>307</th>\n",
       "      <td>Slovakia</td>\n",
       "      <td>2019.0</td>\n",
       "      <td>2.52901</td>\n",
       "      <td>1.34108</td>\n",
       "    </tr>\n",
       "    <tr>\n",
       "      <th>308</th>\n",
       "      <td>Slovakia</td>\n",
       "      <td>2020.0</td>\n",
       "      <td>2.53175</td>\n",
       "      <td>1.31341</td>\n",
       "    </tr>\n",
       "    <tr>\n",
       "      <th>309</th>\n",
       "      <td>Slovakia</td>\n",
       "      <td>2021.0</td>\n",
       "      <td>2.43057</td>\n",
       "      <td>1.27313</td>\n",
       "    </tr>\n",
       "  </tbody>\n",
       "</table>\n",
       "<p>310 rows × 4 columns</p>\n",
       "</div>"
      ],
      "text/plain": [
       "         Pais     Año  Emisiones Agricultura  Emisiones Carnicos\n",
       "0     Austria  2012.0                7.21242             5.31348\n",
       "1     Austria  2013.0                7.21117             5.34052\n",
       "2     Austria  2014.0                7.34622             5.37856\n",
       "3     Austria  2015.0                7.37600             5.39946\n",
       "4     Austria  2016.0                7.48882             5.42585\n",
       "..        ...     ...                    ...                 ...\n",
       "305  Slovakia  2017.0                2.49206             1.37736\n",
       "306  Slovakia  2018.0                2.51248             1.38079\n",
       "307  Slovakia  2019.0                2.52901             1.34108\n",
       "308  Slovakia  2020.0                2.53175             1.31341\n",
       "309  Slovakia  2021.0                2.43057             1.27313\n",
       "\n",
       "[310 rows x 4 columns]"
      ]
     },
     "execution_count": 160,
     "metadata": {},
     "output_type": "execute_result"
    }
   ],
   "source": [
    "agri_car_emision"
   ]
  },
  {
   "attachments": {},
   "cell_type": "markdown",
   "metadata": {},
   "source": [
    "## DATA TOP PAISES"
   ]
  },
  {
   "cell_type": "code",
   "execution_count": 165,
   "metadata": {},
   "outputs": [],
   "source": [
    "#Me quedo solo con los paises top en pob bovina\n",
    "agri_car_emision_top= agri_car_emision[agri_car_emision[\"Pais\"].isin([\"France\", \"Spain\", \"Germany\", \"Ireland\", \"Italy\", \"Poland\"])]"
   ]
  },
  {
   "cell_type": "code",
   "execution_count": 166,
   "metadata": {},
   "outputs": [],
   "source": [
    "agri_car_emision_top= agri_car_emision_top.reset_index(drop=True)"
   ]
  },
  {
   "attachments": {},
   "cell_type": "markdown",
   "metadata": {},
   "source": [
    "## CREACION GRAFICOS"
   ]
  },
  {
   "cell_type": "code",
   "execution_count": 171,
   "metadata": {},
   "outputs": [
    {
     "data": {
      "image/png": "[encoded data removed]",
      "text/plain": [
       "<Figure size 800x800 with 1 Axes>"
      ]
     },
     "metadata": {},
     "output_type": "display_data"
    }
   ],
   "source": [
    "import matplotlib.pyplot as plt\n",
    "objeto = agri_car_emision_top\n",
    "columna = \"Emisiones Carnicos\"\n",
    "nombre_archivo = \"Emisiones_pais%_carne\"\n",
    "titulo = \"Porcentaje emisiones carnicos por pais\"\n",
    "# create data\n",
    "\n",
    "data = (objeto.groupby('Pais')[columna].sum() / agri_car_emision[columna].sum()) * 100\n",
    "\n",
    " \n",
    "# # Create a circle for the center of the plot\n",
    "my_circle=plt.Circle( (0,0),\n",
    "                     0.7, # Grosor del donut\n",
    "                     color='white')\n",
    "\n",
    "fig2 = plt.figure(figsize=(8,8))\n",
    "\n",
    "plt.pie(data.values,\n",
    "        labels=data.index,\n",
    "        autopct='%1.2f%%');\n",
    "\n",
    "p=plt.gcf()\n",
    "p.gca().add_artist(my_circle);\n",
    "plt.legend(bbox_to_anchor=(1.02, 1), loc='upper left')\n",
    "plt.title(titulo)\n",
    "fig2.savefig('Graficos/{}.png'.format(nombre_archivo), bbox_inches='tight')"
   ]
  },
  {
   "cell_type": "code",
   "execution_count": 151,
   "metadata": {},
   "outputs": [
    {
     "ename": "ValueError",
     "evalue": "Could not interpret value `Año` for parameter `hue`",
     "output_type": "error",
     "traceback": [
      "\u001b[1;31m---------------------------------------------------------------------------\u001b[0m",
      "\u001b[1;31mValueError\u001b[0m                                Traceback (most recent call last)",
      "\u001b[1;32m~\\AppData\\Local\\Temp\\ipykernel_10892\\566972880.py\u001b[0m in \u001b[0;36m<module>\u001b[1;34m\u001b[0m\n\u001b[0;32m     10\u001b[0m \u001b[1;33m\u001b[0m\u001b[0m\n\u001b[0;32m     11\u001b[0m \u001b[0mcorrelacion1\u001b[0m\u001b[1;33m=\u001b[0m \u001b[0mplt\u001b[0m\u001b[1;33m.\u001b[0m\u001b[0mfigure\u001b[0m\u001b[1;33m(\u001b[0m\u001b[0mfigsize\u001b[0m\u001b[1;33m=\u001b[0m\u001b[1;33m(\u001b[0m\u001b[1;36m8\u001b[0m\u001b[1;33m,\u001b[0m \u001b[1;36m6\u001b[0m\u001b[1;33m)\u001b[0m\u001b[1;33m)\u001b[0m\u001b[1;33m\u001b[0m\u001b[1;33m\u001b[0m\u001b[0m\n\u001b[1;32m---> 12\u001b[1;33m \u001b[0msns\u001b[0m\u001b[1;33m.\u001b[0m\u001b[0mscatterplot\u001b[0m\u001b[1;33m(\u001b[0m\u001b[0mx\u001b[0m\u001b[1;33m=\u001b[0m\u001b[0mx\u001b[0m\u001b[1;33m,\u001b[0m \u001b[0my\u001b[0m\u001b[1;33m=\u001b[0m\u001b[0my\u001b[0m\u001b[1;33m,\u001b[0m \u001b[0mhue\u001b[0m\u001b[1;33m=\u001b[0m\u001b[1;34m'Año'\u001b[0m\u001b[1;33m)\u001b[0m\u001b[1;33m\u001b[0m\u001b[1;33m\u001b[0m\u001b[0m\n\u001b[0m\u001b[0;32m     13\u001b[0m \u001b[1;33m\u001b[0m\u001b[0m\n\u001b[0;32m     14\u001b[0m \u001b[1;31m# Ajustar los títulos de los ejes\u001b[0m\u001b[1;33m\u001b[0m\u001b[1;33m\u001b[0m\u001b[1;33m\u001b[0m\u001b[0m\n",
      "\u001b[1;32mc:\\Users\\Usuario\\AppData\\Local\\Programs\\Python\\Python37\\lib\\site-packages\\seaborn\\relational.py\u001b[0m in \u001b[0;36mscatterplot\u001b[1;34m(data, x, y, hue, size, style, palette, hue_order, hue_norm, sizes, size_order, size_norm, markers, style_order, legend, ax, **kwargs)\u001b[0m\n\u001b[0;32m    740\u001b[0m \u001b[1;33m\u001b[0m\u001b[0m\n\u001b[0;32m    741\u001b[0m     \u001b[0mvariables\u001b[0m \u001b[1;33m=\u001b[0m \u001b[0m_ScatterPlotter\u001b[0m\u001b[1;33m.\u001b[0m\u001b[0mget_semantics\u001b[0m\u001b[1;33m(\u001b[0m\u001b[0mlocals\u001b[0m\u001b[1;33m(\u001b[0m\u001b[1;33m)\u001b[0m\u001b[1;33m)\u001b[0m\u001b[1;33m\u001b[0m\u001b[1;33m\u001b[0m\u001b[0m\n\u001b[1;32m--> 742\u001b[1;33m     \u001b[0mp\u001b[0m \u001b[1;33m=\u001b[0m \u001b[0m_ScatterPlotter\u001b[0m\u001b[1;33m(\u001b[0m\u001b[0mdata\u001b[0m\u001b[1;33m=\u001b[0m\u001b[0mdata\u001b[0m\u001b[1;33m,\u001b[0m \u001b[0mvariables\u001b[0m\u001b[1;33m=\u001b[0m\u001b[0mvariables\u001b[0m\u001b[1;33m,\u001b[0m \u001b[0mlegend\u001b[0m\u001b[1;33m=\u001b[0m\u001b[0mlegend\u001b[0m\u001b[1;33m)\u001b[0m\u001b[1;33m\u001b[0m\u001b[1;33m\u001b[0m\u001b[0m\n\u001b[0m\u001b[0;32m    743\u001b[0m \u001b[1;33m\u001b[0m\u001b[0m\n\u001b[0;32m    744\u001b[0m     \u001b[0mp\u001b[0m\u001b[1;33m.\u001b[0m\u001b[0mmap_hue\u001b[0m\u001b[1;33m(\u001b[0m\u001b[0mpalette\u001b[0m\u001b[1;33m=\u001b[0m\u001b[0mpalette\u001b[0m\u001b[1;33m,\u001b[0m \u001b[0morder\u001b[0m\u001b[1;33m=\u001b[0m\u001b[0mhue_order\u001b[0m\u001b[1;33m,\u001b[0m \u001b[0mnorm\u001b[0m\u001b[1;33m=\u001b[0m\u001b[0mhue_norm\u001b[0m\u001b[1;33m)\u001b[0m\u001b[1;33m\u001b[0m\u001b[1;33m\u001b[0m\u001b[0m\n",
      "\u001b[1;32mc:\\Users\\Usuario\\AppData\\Local\\Programs\\Python\\Python37\\lib\\site-packages\\seaborn\\relational.py\u001b[0m in \u001b[0;36m__init__\u001b[1;34m(self, data, variables, legend)\u001b[0m\n\u001b[0;32m    536\u001b[0m         )\n\u001b[0;32m    537\u001b[0m \u001b[1;33m\u001b[0m\u001b[0m\n\u001b[1;32m--> 538\u001b[1;33m         \u001b[0msuper\u001b[0m\u001b[1;33m(\u001b[0m\u001b[1;33m)\u001b[0m\u001b[1;33m.\u001b[0m\u001b[0m__init__\u001b[0m\u001b[1;33m(\u001b[0m\u001b[0mdata\u001b[0m\u001b[1;33m=\u001b[0m\u001b[0mdata\u001b[0m\u001b[1;33m,\u001b[0m \u001b[0mvariables\u001b[0m\u001b[1;33m=\u001b[0m\u001b[0mvariables\u001b[0m\u001b[1;33m)\u001b[0m\u001b[1;33m\u001b[0m\u001b[1;33m\u001b[0m\u001b[0m\n\u001b[0m\u001b[0;32m    539\u001b[0m \u001b[1;33m\u001b[0m\u001b[0m\n\u001b[0;32m    540\u001b[0m         \u001b[0mself\u001b[0m\u001b[1;33m.\u001b[0m\u001b[0mlegend\u001b[0m \u001b[1;33m=\u001b[0m \u001b[0mlegend\u001b[0m\u001b[1;33m\u001b[0m\u001b[1;33m\u001b[0m\u001b[0m\n",
      "\u001b[1;32mc:\\Users\\Usuario\\AppData\\Local\\Programs\\Python\\Python37\\lib\\site-packages\\seaborn\\_oldcore.py\u001b[0m in \u001b[0;36m__init__\u001b[1;34m(self, data, variables)\u001b[0m\n\u001b[0;32m    638\u001b[0m         \u001b[1;31m# information for numeric axes would be information about log scales.\u001b[0m\u001b[1;33m\u001b[0m\u001b[1;33m\u001b[0m\u001b[1;33m\u001b[0m\u001b[0m\n\u001b[0;32m    639\u001b[0m         \u001b[0mself\u001b[0m\u001b[1;33m.\u001b[0m\u001b[0m_var_ordered\u001b[0m \u001b[1;33m=\u001b[0m \u001b[1;33m{\u001b[0m\u001b[1;34m\"x\"\u001b[0m\u001b[1;33m:\u001b[0m \u001b[1;32mFalse\u001b[0m\u001b[1;33m,\u001b[0m \u001b[1;34m\"y\"\u001b[0m\u001b[1;33m:\u001b[0m \u001b[1;32mFalse\u001b[0m\u001b[1;33m}\u001b[0m  \u001b[1;31m# alt., used DefaultDict\u001b[0m\u001b[1;33m\u001b[0m\u001b[1;33m\u001b[0m\u001b[0m\n\u001b[1;32m--> 640\u001b[1;33m         \u001b[0mself\u001b[0m\u001b[1;33m.\u001b[0m\u001b[0massign_variables\u001b[0m\u001b[1;33m(\u001b[0m\u001b[0mdata\u001b[0m\u001b[1;33m,\u001b[0m \u001b[0mvariables\u001b[0m\u001b[1;33m)\u001b[0m\u001b[1;33m\u001b[0m\u001b[1;33m\u001b[0m\u001b[0m\n\u001b[0m\u001b[0;32m    641\u001b[0m \u001b[1;33m\u001b[0m\u001b[0m\n\u001b[0;32m    642\u001b[0m         \u001b[1;32mfor\u001b[0m \u001b[0mvar\u001b[0m\u001b[1;33m,\u001b[0m \u001b[0mcls\u001b[0m \u001b[1;32min\u001b[0m \u001b[0mself\u001b[0m\u001b[1;33m.\u001b[0m\u001b[0m_semantic_mappings\u001b[0m\u001b[1;33m.\u001b[0m\u001b[0mitems\u001b[0m\u001b[1;33m(\u001b[0m\u001b[1;33m)\u001b[0m\u001b[1;33m:\u001b[0m\u001b[1;33m\u001b[0m\u001b[1;33m\u001b[0m\u001b[0m\n",
      "\u001b[1;32mc:\\Users\\Usuario\\AppData\\Local\\Programs\\Python\\Python37\\lib\\site-packages\\seaborn\\_oldcore.py\u001b[0m in \u001b[0;36massign_variables\u001b[1;34m(self, data, variables)\u001b[0m\n\u001b[0;32m    700\u001b[0m             \u001b[0mself\u001b[0m\u001b[1;33m.\u001b[0m\u001b[0minput_format\u001b[0m \u001b[1;33m=\u001b[0m \u001b[1;34m\"long\"\u001b[0m\u001b[1;33m\u001b[0m\u001b[1;33m\u001b[0m\u001b[0m\n\u001b[0;32m    701\u001b[0m             plot_data, variables = self._assign_variables_longform(\n\u001b[1;32m--> 702\u001b[1;33m                 \u001b[0mdata\u001b[0m\u001b[1;33m,\u001b[0m \u001b[1;33m**\u001b[0m\u001b[0mvariables\u001b[0m\u001b[1;33m,\u001b[0m\u001b[1;33m\u001b[0m\u001b[1;33m\u001b[0m\u001b[0m\n\u001b[0m\u001b[0;32m    703\u001b[0m             )\n\u001b[0;32m    704\u001b[0m \u001b[1;33m\u001b[0m\u001b[0m\n",
      "\u001b[1;32mc:\\Users\\Usuario\\AppData\\Local\\Programs\\Python\\Python37\\lib\\site-packages\\seaborn\\_oldcore.py\u001b[0m in \u001b[0;36m_assign_variables_longform\u001b[1;34m(self, data, **kwargs)\u001b[0m\n\u001b[0;32m    936\u001b[0m \u001b[1;33m\u001b[0m\u001b[0m\n\u001b[0;32m    937\u001b[0m                 \u001b[0merr\u001b[0m \u001b[1;33m=\u001b[0m \u001b[1;34mf\"Could not interpret value `{val}` for parameter `{key}`\"\u001b[0m\u001b[1;33m\u001b[0m\u001b[1;33m\u001b[0m\u001b[0m\n\u001b[1;32m--> 938\u001b[1;33m                 \u001b[1;32mraise\u001b[0m \u001b[0mValueError\u001b[0m\u001b[1;33m(\u001b[0m\u001b[0merr\u001b[0m\u001b[1;33m)\u001b[0m\u001b[1;33m\u001b[0m\u001b[1;33m\u001b[0m\u001b[0m\n\u001b[0m\u001b[0;32m    939\u001b[0m \u001b[1;33m\u001b[0m\u001b[0m\n\u001b[0;32m    940\u001b[0m             \u001b[1;32melse\u001b[0m\u001b[1;33m:\u001b[0m\u001b[1;33m\u001b[0m\u001b[1;33m\u001b[0m\u001b[0m\n",
      "\u001b[1;31mValueError\u001b[0m: Could not interpret value `Año` for parameter `hue`"
     ]
    },
    {
     "data": {
      "text/plain": [
       "<Figure size 800x600 with 0 Axes>"
      ]
     },
     "metadata": {},
     "output_type": "display_data"
    }
   ],
   "source": [
    "#scaterplot correlacion agricultura y carnicos\n",
    "objeto = agri_car_emision_top\n",
    "columna_x = \"Emisiones Agricultura\"\n",
    "columna_y = \"Emisiones Carnicos\"\n",
    "nombre_archivo = \"scatterplot_agri_carn_por_pais\"\n",
    "titulo = \"Correlación por paises\"\n",
    "x = objeto[columna_x]\n",
    "y = objeto[columna_y]\n",
    "\n",
    "\n",
    "correlacion1= plt.figure(figsize=(8, 6))\n",
    "sns.scatterplot(x=x, y=y, hue='Año')\n",
    "\n",
    "# Ajustar los títulos de los ejes\n",
    "plt.xlabel(\" '\" + columna_x + \"'\")\n",
    "plt.ylabel(\" '\" + columna_y + \"'\")\n",
    "\n",
    "# Mostrar el gráfico\n",
    "plt.show()\n",
    "#correlacion1.savefig('Graficos/{}.png'.format(nombre_archivo), bbox_inches='tight')\n"
   ]
  },
  {
   "cell_type": "code",
   "execution_count": 215,
   "metadata": {},
   "outputs": [
    {
     "name": "stdout",
     "output_type": "stream",
     "text": [
      "<class 'pandas.core.frame.DataFrame'>\n",
      "RangeIndex: 10 entries, 0 to 9\n",
      "Data columns (total 7 columns):\n",
      " #   Column                                            Non-Null Count  Dtype  \n",
      "---  ------                                            --------------  -----  \n",
      " 0   AÑO                                               10 non-null     int64  \n",
      " 1   France                                            10 non-null     float64\n",
      " 2   Germany (until 1990 former territory of the FRG)  10 non-null     float64\n",
      " 3   Ireland                                           10 non-null     float64\n",
      " 4   Italy                                             10 non-null     float64\n",
      " 5   Poland                                            10 non-null     float64\n",
      " 6   Spain                                             10 non-null     float64\n",
      "dtypes: float64(6), int64(1)\n",
      "memory usage: 688.0 bytes\n"
     ]
    }
   ],
   "source": [
    "#importamos pob bovina\n",
    "pob_bovina=pd.read_csv(\"Data\\pob_bovina_top5.csv\")\n",
    "pob_bovina.info()\n",
    "\n"
   ]
  },
  {
   "cell_type": "code",
   "execution_count": 217,
   "metadata": {},
   "outputs": [
    {
     "name": "stdout",
     "output_type": "stream",
     "text": [
      "<class 'pandas.core.frame.DataFrame'>\n",
      "RangeIndex: 10 entries, 0 to 9\n",
      "Data columns (total 7 columns):\n",
      " #   Column                                            Non-Null Count  Dtype  \n",
      "---  ------                                            --------------  -----  \n",
      " 0   AÑO                                               10 non-null     int64  \n",
      " 1   France                                            10 non-null     float64\n",
      " 2   Germany (until 1990 former territory of the FRG)  10 non-null     float64\n",
      " 3   Ireland                                           10 non-null     float64\n",
      " 4   Italy                                             10 non-null     float64\n",
      " 5   Poland                                            10 non-null     float64\n",
      " 6   Spain                                             10 non-null     float64\n",
      "dtypes: float64(6), int64(1)\n",
      "memory usage: 688.0 bytes\n"
     ]
    }
   ],
   "source": [
    "pob_bovina.info()"
   ]
  },
  {
   "cell_type": "code",
   "execution_count": 225,
   "metadata": {},
   "outputs": [],
   "source": [
    "df_bovina = pob_bovina.melt(id_vars='AÑO', var_name='Pais', value_name='Pob.bovina')\n",
    "df_bovina.rename(columns={\"AÑO\":\"Año\"}, inplace=True)"
   ]
  },
  {
   "cell_type": "code",
   "execution_count": 226,
   "metadata": {},
   "outputs": [
    {
     "data": {
      "text/html": [
       "<div>\n",
       "<style scoped>\n",
       "    .dataframe tbody tr th:only-of-type {\n",
       "        vertical-align: middle;\n",
       "    }\n",
       "\n",
       "    .dataframe tbody tr th {\n",
       "        vertical-align: top;\n",
       "    }\n",
       "\n",
       "    .dataframe thead th {\n",
       "        text-align: right;\n",
       "    }\n",
       "</style>\n",
       "<table border=\"1\" class=\"dataframe\">\n",
       "  <thead>\n",
       "    <tr style=\"text-align: right;\">\n",
       "      <th></th>\n",
       "      <th>Año</th>\n",
       "      <th>Pais</th>\n",
       "      <th>Pob.bovina</th>\n",
       "    </tr>\n",
       "  </thead>\n",
       "  <tbody>\n",
       "    <tr>\n",
       "      <th>0</th>\n",
       "      <td>2013</td>\n",
       "      <td>France</td>\n",
       "      <td>33440.88</td>\n",
       "    </tr>\n",
       "    <tr>\n",
       "      <th>1</th>\n",
       "      <td>2014</td>\n",
       "      <td>France</td>\n",
       "      <td>33755.95</td>\n",
       "    </tr>\n",
       "    <tr>\n",
       "      <th>2</th>\n",
       "      <td>2015</td>\n",
       "      <td>France</td>\n",
       "      <td>34081.02</td>\n",
       "    </tr>\n",
       "    <tr>\n",
       "      <th>3</th>\n",
       "      <td>2016</td>\n",
       "      <td>France</td>\n",
       "      <td>33997.01</td>\n",
       "    </tr>\n",
       "    <tr>\n",
       "      <th>4</th>\n",
       "      <td>2017</td>\n",
       "      <td>France</td>\n",
       "      <td>32876.64</td>\n",
       "    </tr>\n",
       "  </tbody>\n",
       "</table>\n",
       "</div>"
      ],
      "text/plain": [
       "    Año    Pais  Pob.bovina\n",
       "0  2013  France    33440.88\n",
       "1  2014  France    33755.95\n",
       "2  2015  France    34081.02\n",
       "3  2016  France    33997.01\n",
       "4  2017  France    32876.64"
      ]
     },
     "execution_count": 226,
     "metadata": {},
     "output_type": "execute_result"
    }
   ],
   "source": [
    "df_bovina.head()"
   ]
  },
  {
   "cell_type": "code",
   "execution_count": 227,
   "metadata": {},
   "outputs": [],
   "source": [
    "df_merged = pd.merge(agri_car_emision_top, df_bovina, on=['Pais', 'Año'])"
   ]
  },
  {
   "cell_type": "code",
   "execution_count": 232,
   "metadata": {},
   "outputs": [
    {
     "data": {
      "text/html": [
       "<div>\n",
       "<style scoped>\n",
       "    .dataframe tbody tr th:only-of-type {\n",
       "        vertical-align: middle;\n",
       "    }\n",
       "\n",
       "    .dataframe tbody tr th {\n",
       "        vertical-align: top;\n",
       "    }\n",
       "\n",
       "    .dataframe thead th {\n",
       "        text-align: right;\n",
       "    }\n",
       "</style>\n",
       "<table border=\"1\" class=\"dataframe\">\n",
       "  <thead>\n",
       "    <tr style=\"text-align: right;\">\n",
       "      <th></th>\n",
       "      <th>Pais</th>\n",
       "      <th>Año</th>\n",
       "      <th>Emisiones Agricultura</th>\n",
       "      <th>Emisiones Carnicos</th>\n",
       "      <th>Pob.bovina</th>\n",
       "    </tr>\n",
       "  </thead>\n",
       "  <tbody>\n",
       "    <tr>\n",
       "      <th>0</th>\n",
       "      <td>Spain</td>\n",
       "      <td>2013.0</td>\n",
       "      <td>31.33811</td>\n",
       "      <td>24.49500</td>\n",
       "      <td>10672.86</td>\n",
       "    </tr>\n",
       "    <tr>\n",
       "      <th>1</th>\n",
       "      <td>Spain</td>\n",
       "      <td>2014.0</td>\n",
       "      <td>32.62116</td>\n",
       "      <td>25.19307</td>\n",
       "      <td>11428.54</td>\n",
       "    </tr>\n",
       "    <tr>\n",
       "      <th>2</th>\n",
       "      <td>Spain</td>\n",
       "      <td>2015.0</td>\n",
       "      <td>33.23625</td>\n",
       "      <td>25.93048</td>\n",
       "      <td>11618.57</td>\n",
       "    </tr>\n",
       "    <tr>\n",
       "      <th>3</th>\n",
       "      <td>Spain</td>\n",
       "      <td>2016.0</td>\n",
       "      <td>33.30531</td>\n",
       "      <td>26.18989</td>\n",
       "      <td>11928.79</td>\n",
       "    </tr>\n",
       "    <tr>\n",
       "      <th>4</th>\n",
       "      <td>Spain</td>\n",
       "      <td>2017.0</td>\n",
       "      <td>34.08483</td>\n",
       "      <td>26.63711</td>\n",
       "      <td>12272.08</td>\n",
       "    </tr>\n",
       "  </tbody>\n",
       "</table>\n",
       "</div>"
      ],
      "text/plain": [
       "    Pais     Año  Emisiones Agricultura  Emisiones Carnicos  Pob.bovina\n",
       "0  Spain  2013.0               31.33811            24.49500    10672.86\n",
       "1  Spain  2014.0               32.62116            25.19307    11428.54\n",
       "2  Spain  2015.0               33.23625            25.93048    11618.57\n",
       "3  Spain  2016.0               33.30531            26.18989    11928.79\n",
       "4  Spain  2017.0               34.08483            26.63711    12272.08"
      ]
     },
     "execution_count": 232,
     "metadata": {},
     "output_type": "execute_result"
    }
   ],
   "source": [
    "df_merged.head()"
   ]
  },
  {
   "cell_type": "code",
   "execution_count": 245,
   "metadata": {},
   "outputs": [],
   "source": [
    "df_merged.to_csv(\"Data\\df_merged.csv\")\n"
   ]
  },
  {
   "cell_type": "code",
   "execution_count": 250,
   "metadata": {},
   "outputs": [
    {
     "data": {
      "image/png": "[encoded data removed]",
      "text/plain": [
       "<Figure size 800x600 with 2 Axes>"
      ]
     },
     "metadata": {},
     "output_type": "display_data"
    }
   ],
   "source": [
    "# Calcular la matriz de correlación\n",
    "correlation_matrix = df_merged.corr()\n",
    "\n",
    "# Crear el heatmap utilizando seaborn\n",
    "figcorre = plt.figure(figsize=(8, 6))\n",
    "sns.heatmap(correlation_matrix, annot=True, cmap='coolwarm')\n",
    "\n",
    "plt.title('Correlación entre Emisiones de Agricultura y Carne')\n",
    "\n",
    "figcorre.savefig('Graficos/correlacion_care_agr_bovina.jpg', bbox_inches='tight')"
   ]
  },
  {
   "cell_type": "code",
   "execution_count": 244,
   "metadata": {},
   "outputs": [
    {
     "data": {
      "application/vnd.plotly.v1+json": {
       "config": {
        "plotlyServerURL": "https://plot.ly"
       },
       "data": [
        {
         "mode": "lines",
         "name": "Emisiones Cárnicas - France",
         "type": "scatter",
         "visible": "legendonly",
         "x": [
          2013,
          2014,
          2015,
          2016,
          2017,
          2018,
          2019,
          2020,
          2021
         ],
         "y": [
          49016.68,
          49578.62,
          49724.57,
          49450.119999999995,
          48866.340000000004,
          48174.41,
          47338.56,
          46613.280000000006,
          45518.29
         ]
        },
        {
         "mode": "lines",
         "name": "Población Bovina - France",
         "type": "scatter",
         "visible": "legendonly",
         "x": [
          2013,
          2014,
          2015,
          2016,
          2017,
          2018,
          2019,
          2020,
          2021
         ],
         "y": [
          33440.88,
          33755.95,
          34081.020000000004,
          33997.01,
          32876.64,
          32401.5,
          31605.47,
          31116.86,
          30240.85
         ]
        },
        {
         "mode": "lines",
         "name": "Emisiones Cárnicas - Ireland",
         "type": "scatter",
         "visible": "legendonly",
         "x": [
          2013,
          2014,
          2015,
          2016,
          2017,
          2018,
          2019,
          2020,
          2021
         ],
         "y": [
          15211.25,
          15073.2,
          15600.22,
          16040.890000000001,
          16610.420000000002,
          17016.15,
          16532.530000000002,
          16771.329999999998,
          17190.899999999998
         ]
        },
        {
         "mode": "lines",
         "name": "Población Bovina - Ireland",
         "type": "scatter",
         "visible": "legendonly",
         "x": [
          2013,
          2014,
          2015,
          2016,
          2017,
          2018,
          2019,
          2020,
          2021
         ],
         "y": [
          11810.04,
          11663.21,
          12133.59,
          12544.57,
          12638.82,
          12382.95,
          12225.79,
          12350.62,
          12639.93
         ]
        },
        {
         "mode": "lines",
         "name": "Emisiones Cárnicas - Italy",
         "type": "scatter",
         "visible": "legendonly",
         "x": [
          2013,
          2014,
          2015,
          2016,
          2017,
          2018,
          2019,
          2020,
          2021
         ],
         "y": [
          21401.45,
          21092.52,
          21147.33,
          21433.03,
          21541.65,
          21343.63,
          21282.800000000003,
          21481.37,
          21253.039999999997
         ]
        },
        {
         "mode": "lines",
         "name": "Población Bovina - Italy",
         "type": "scatter",
         "visible": "legendonly",
         "x": [
          2013,
          2014,
          2015,
          2016,
          2017,
          2018,
          2019,
          2020,
          2021
         ],
         "y": [
          11066.49,
          10798.93,
          10891.19,
          11253.39,
          11327.2,
          11254.28,
          11483.89,
          11542.7,
          11285.64
         ]
        },
        {
         "mode": "lines",
         "name": "Emisiones Cárnicas - Poland",
         "type": "scatter",
         "visible": "legendonly",
         "x": [
          2013,
          2014,
          2015,
          2016,
          2017,
          2018,
          2019,
          2020,
          2021
         ],
         "y": [
          17039.940000000002,
          17171.46,
          17366.65,
          17090.219999999998,
          17676.030000000002,
          17992.550000000003,
          18073.82,
          18472.49,
          18551.31
         ]
        },
        {
         "mode": "lines",
         "name": "Población Bovina - Poland",
         "type": "scatter",
         "visible": "legendonly",
         "x": [
          2013,
          2014,
          2015,
          2016,
          2017,
          2018,
          2019,
          2020,
          2021
         ],
         "y": [
          9778.4,
          10005.13,
          10527.8,
          11043.1,
          11130.6,
          11333.9,
          11513.2,
          11548.1,
          11897.3
         ]
        },
        {
         "mode": "lines",
         "name": "Emisiones Cárnicas - Spain",
         "type": "scatter",
         "visible": "legendonly",
         "x": [
          2013,
          2014,
          2015,
          2016,
          2017,
          2018,
          2019,
          2020,
          2021
         ],
         "y": [
          24495,
          25193.07,
          25930.48,
          26189.89,
          26637.11,
          26656.23,
          26784.79,
          27262.67,
          27366.69
         ]
        },
        {
         "mode": "lines",
         "name": "Población Bovina - Spain",
         "type": "scatter",
         "visible": "legendonly",
         "x": [
          2013,
          2014,
          2015,
          2016,
          2017,
          2018,
          2019,
          2020,
          2021
         ],
         "y": [
          10672.86,
          11428.54,
          11618.57,
          11928.79,
          12272.08,
          12345.57,
          12515.04,
          12571.77,
          12231.6
         ]
        }
       ],
       "layout": {
        "legend": {
         "bgcolor": "rgba(255, 255, 255, 0.5)",
         "bordercolor": "rgba(0, 0, 0, 0.5)",
         "borderwidth": 1,
         "orientation": "v",
         "x": 1.1,
         "y": 0.5,
         "yanchor": "middle"
        },
        "template": {
         "data": {
          "bar": [
           {
            "error_x": {
             "color": "#2a3f5f"
            },
            "error_y": {
             "color": "#2a3f5f"
            },
            "marker": {
             "line": {
              "color": "#E5ECF6",
              "width": 0.5
             },
             "pattern": {
              "fillmode": "overlay",
              "size": 10,
              "solidity": 0.2
             }
            },
            "type": "bar"
           }
          ],
          "barpolar": [
           {
            "marker": {
             "line": {
              "color": "#E5ECF6",
              "width": 0.5
             },
             "pattern": {
              "fillmode": "overlay",
              "size": 10,
              "solidity": 0.2
             }
            },
            "type": "barpolar"
           }
          ],
          "carpet": [
           {
            "aaxis": {
             "endlinecolor": "#2a3f5f",
             "gridcolor": "white",
             "linecolor": "white",
             "minorgridcolor": "white",
             "startlinecolor": "#2a3f5f"
            },
            "baxis": {
             "endlinecolor": "#2a3f5f",
             "gridcolor": "white",
             "linecolor": "white",
             "minorgridcolor": "white",
             "startlinecolor": "#2a3f5f"
            },
            "type": "carpet"
           }
          ],
          "choropleth": [
           {
            "colorbar": {
             "outlinewidth": 0,
             "ticks": ""
            },
            "type": "choropleth"
           }
          ],
          "contour": [
           {
            "colorbar": {
             "outlinewidth": 0,
             "ticks": ""
            },
            "colorscale": [
             [
              0,
              "#0d0887"
             ],
             [
              0.1111111111111111,
              "#46039f"
             ],
             [
              0.2222222222222222,
              "#7201a8"
             ],
             [
              0.3333333333333333,
              "#9c179e"
             ],
             [
              0.4444444444444444,
              "#bd3786"
             ],
             [
              0.5555555555555556,
              "#d8576b"
             ],
             [
              0.6666666666666666,
              "#ed7953"
             ],
             [
              0.7777777777777778,
              "#fb9f3a"
             ],
             [
              0.8888888888888888,
              "#fdca26"
             ],
             [
              1,
              "#f0f921"
             ]
            ],
            "type": "contour"
           }
          ],
          "contourcarpet": [
           {
            "colorbar": {
             "outlinewidth": 0,
             "ticks": ""
            },
            "type": "contourcarpet"
           }
          ],
          "heatmap": [
           {
            "colorbar": {
             "outlinewidth": 0,
             "ticks": ""
            },
            "colorscale": [
             [
              0,
              "#0d0887"
             ],
             [
              0.1111111111111111,
              "#46039f"
             ],
             [
              0.2222222222222222,
              "#7201a8"
             ],
             [
              0.3333333333333333,
              "#9c179e"
             ],
             [
              0.4444444444444444,
              "#bd3786"
             ],
             [
              0.5555555555555556,
              "#d8576b"
             ],
             [
              0.6666666666666666,
              "#ed7953"
             ],
             [
              0.7777777777777778,
              "#fb9f3a"
             ],
             [
              0.8888888888888888,
              "#fdca26"
             ],
             [
              1,
              "#f0f921"
             ]
            ],
            "type": "heatmap"
           }
          ],
          "heatmapgl": [
           {
            "colorbar": {
             "outlinewidth": 0,
             "ticks": ""
            },
            "colorscale": [
             [
              0,
              "#0d0887"
             ],
             [
              0.1111111111111111,
              "#46039f"
             ],
             [
              0.2222222222222222,
              "#7201a8"
             ],
             [
              0.3333333333333333,
              "#9c179e"
             ],
             [
              0.4444444444444444,
              "#bd3786"
             ],
             [
              0.5555555555555556,
              "#d8576b"
             ],
             [
              0.6666666666666666,
              "#ed7953"
             ],
             [
              0.7777777777777778,
              "#fb9f3a"
             ],
             [
              0.8888888888888888,
              "#fdca26"
             ],
             [
              1,
              "#f0f921"
             ]
            ],
            "type": "heatmapgl"
           }
          ],
          "histogram": [
           {
            "marker": {
             "pattern": {
              "fillmode": "overlay",
              "size": 10,
              "solidity": 0.2
             }
            },
            "type": "histogram"
           }
          ],
          "histogram2d": [
           {
            "colorbar": {
             "outlinewidth": 0,
             "ticks": ""
            },
            "colorscale": [
             [
              0,
              "#0d0887"
             ],
             [
              0.1111111111111111,
              "#46039f"
             ],
             [
              0.2222222222222222,
              "#7201a8"
             ],
             [
              0.3333333333333333,
              "#9c179e"
             ],
             [
              0.4444444444444444,
              "#bd3786"
             ],
             [
              0.5555555555555556,
              "#d8576b"
             ],
             [
              0.6666666666666666,
              "#ed7953"
             ],
             [
              0.7777777777777778,
              "#fb9f3a"
             ],
             [
              0.8888888888888888,
              "#fdca26"
             ],
             [
              1,
              "#f0f921"
             ]
            ],
            "type": "histogram2d"
           }
          ],
          "histogram2dcontour": [
           {
            "colorbar": {
             "outlinewidth": 0,
             "ticks": ""
            },
            "colorscale": [
             [
              0,
              "#0d0887"
             ],
             [
              0.1111111111111111,
              "#46039f"
             ],
             [
              0.2222222222222222,
              "#7201a8"
             ],
             [
              0.3333333333333333,
              "#9c179e"
             ],
             [
              0.4444444444444444,
              "#bd3786"
             ],
             [
              0.5555555555555556,
              "#d8576b"
             ],
             [
              0.6666666666666666,
              "#ed7953"
             ],
             [
              0.7777777777777778,
              "#fb9f3a"
             ],
             [
              0.8888888888888888,
              "#fdca26"
             ],
             [
              1,
              "#f0f921"
             ]
            ],
            "type": "histogram2dcontour"
           }
          ],
          "mesh3d": [
           {
            "colorbar": {
             "outlinewidth": 0,
             "ticks": ""
            },
            "type": "mesh3d"
           }
          ],
          "parcoords": [
           {
            "line": {
             "colorbar": {
              "outlinewidth": 0,
              "ticks": ""
             }
            },
            "type": "parcoords"
           }
          ],
          "pie": [
           {
            "automargin": true,
            "type": "pie"
           }
          ],
          "scatter": [
           {
            "fillpattern": {
             "fillmode": "overlay",
             "size": 10,
             "solidity": 0.2
            },
            "type": "scatter"
           }
          ],
          "scatter3d": [
           {
            "line": {
             "colorbar": {
              "outlinewidth": 0,
              "ticks": ""
             }
            },
            "marker": {
             "colorbar": {
              "outlinewidth": 0,
              "ticks": ""
             }
            },
            "type": "scatter3d"
           }
          ],
          "scattercarpet": [
           {
            "marker": {
             "colorbar": {
              "outlinewidth": 0,
              "ticks": ""
             }
            },
            "type": "scattercarpet"
           }
          ],
          "scattergeo": [
           {
            "marker": {
             "colorbar": {
              "outlinewidth": 0,
              "ticks": ""
             }
            },
            "type": "scattergeo"
           }
          ],
          "scattergl": [
           {
            "marker": {
             "colorbar": {
              "outlinewidth": 0,
              "ticks": ""
             }
            },
            "type": "scattergl"
           }
          ],
          "scattermapbox": [
           {
            "marker": {
             "colorbar": {
              "outlinewidth": 0,
              "ticks": ""
             }
            },
            "type": "scattermapbox"
           }
          ],
          "scatterpolar": [
           {
            "marker": {
             "colorbar": {
              "outlinewidth": 0,
              "ticks": ""
             }
            },
            "type": "scatterpolar"
           }
          ],
          "scatterpolargl": [
           {
            "marker": {
             "colorbar": {
              "outlinewidth": 0,
              "ticks": ""
             }
            },
            "type": "scatterpolargl"
           }
          ],
          "scatterternary": [
           {
            "marker": {
             "colorbar": {
              "outlinewidth": 0,
              "ticks": ""
             }
            },
            "type": "scatterternary"
           }
          ],
          "surface": [
           {
            "colorbar": {
             "outlinewidth": 0,
             "ticks": ""
            },
            "colorscale": [
             [
              0,
              "#0d0887"
             ],
             [
              0.1111111111111111,
              "#46039f"
             ],
             [
              0.2222222222222222,
              "#7201a8"
             ],
             [
              0.3333333333333333,
              "#9c179e"
             ],
             [
              0.4444444444444444,
              "#bd3786"
             ],
             [
              0.5555555555555556,
              "#d8576b"
             ],
             [
              0.6666666666666666,
              "#ed7953"
             ],
             [
              0.7777777777777778,
              "#fb9f3a"
             ],
             [
              0.8888888888888888,
              "#fdca26"
             ],
             [
              1,
              "#f0f921"
             ]
            ],
            "type": "surface"
           }
          ],
          "table": [
           {
            "cells": {
             "fill": {
              "color": "#EBF0F8"
             },
             "line": {
              "color": "white"
             }
            },
            "header": {
             "fill": {
              "color": "#C8D4E3"
             },
             "line": {
              "color": "white"
             }
            },
            "type": "table"
           }
          ]
         },
         "layout": {
          "annotationdefaults": {
           "arrowcolor": "#2a3f5f",
           "arrowhead": 0,
           "arrowwidth": 1
          },
          "autotypenumbers": "strict",
          "coloraxis": {
           "colorbar": {
            "outlinewidth": 0,
            "ticks": ""
           }
          },
          "colorscale": {
           "diverging": [
            [
             0,
             "#8e0152"
            ],
            [
             0.1,
             "#c51b7d"
            ],
            [
             0.2,
             "#de77ae"
            ],
            [
             0.3,
             "#f1b6da"
            ],
            [
             0.4,
             "#fde0ef"
            ],
            [
             0.5,
             "#f7f7f7"
            ],
            [
             0.6,
             "#e6f5d0"
            ],
            [
             0.7,
             "#b8e186"
            ],
            [
             0.8,
             "#7fbc41"
            ],
            [
             0.9,
             "#4d9221"
            ],
            [
             1,
             "#276419"
            ]
           ],
           "sequential": [
            [
             0,
             "#0d0887"
            ],
            [
             0.1111111111111111,
             "#46039f"
            ],
            [
             0.2222222222222222,
             "#7201a8"
            ],
            [
             0.3333333333333333,
             "#9c179e"
            ],
            [
             0.4444444444444444,
             "#bd3786"
            ],
            [
             0.5555555555555556,
             "#d8576b"
            ],
            [
             0.6666666666666666,
             "#ed7953"
            ],
            [
             0.7777777777777778,
             "#fb9f3a"
            ],
            [
             0.8888888888888888,
             "#fdca26"
            ],
            [
             1,
             "#f0f921"
            ]
           ],
           "sequentialminus": [
            [
             0,
             "#0d0887"
            ],
            [
             0.1111111111111111,
             "#46039f"
            ],
            [
             0.2222222222222222,
             "#7201a8"
            ],
            [
             0.3333333333333333,
             "#9c179e"
            ],
            [
             0.4444444444444444,
             "#bd3786"
            ],
            [
             0.5555555555555556,
             "#d8576b"
            ],
            [
             0.6666666666666666,
             "#ed7953"
            ],
            [
             0.7777777777777778,
             "#fb9f3a"
            ],
            [
             0.8888888888888888,
             "#fdca26"
            ],
            [
             1,
             "#f0f921"
            ]
           ]
          },
          "colorway": [
           "#636efa",
           "#EF553B",
           "#00cc96",
           "#ab63fa",
           "#FFA15A",
           "#19d3f3",
           "#FF6692",
           "#B6E880",
           "#FF97FF",
           "#FECB52"
          ],
          "font": {
           "color": "#2a3f5f"
          },
          "geo": {
           "bgcolor": "white",
           "lakecolor": "white",
           "landcolor": "#E5ECF6",
           "showlakes": true,
           "showland": true,
           "subunitcolor": "white"
          },
          "hoverlabel": {
           "align": "left"
          },
          "hovermode": "closest",
          "mapbox": {
           "style": "light"
          },
          "paper_bgcolor": "white",
          "plot_bgcolor": "#E5ECF6",
          "polar": {
           "angularaxis": {
            "gridcolor": "white",
            "linecolor": "white",
            "ticks": ""
           },
           "bgcolor": "#E5ECF6",
           "radialaxis": {
            "gridcolor": "white",
            "linecolor": "white",
            "ticks": ""
           }
          },
          "scene": {
           "xaxis": {
            "backgroundcolor": "#E5ECF6",
            "gridcolor": "white",
            "gridwidth": 2,
            "linecolor": "white",
            "showbackground": true,
            "ticks": "",
            "zerolinecolor": "white"
           },
           "yaxis": {
            "backgroundcolor": "#E5ECF6",
            "gridcolor": "white",
            "gridwidth": 2,
            "linecolor": "white",
            "showbackground": true,
            "ticks": "",
            "zerolinecolor": "white"
           },
           "zaxis": {
            "backgroundcolor": "#E5ECF6",
            "gridcolor": "white",
            "gridwidth": 2,
            "linecolor": "white",
            "showbackground": true,
            "ticks": "",
            "zerolinecolor": "white"
           }
          },
          "shapedefaults": {
           "line": {
            "color": "#2a3f5f"
           }
          },
          "ternary": {
           "aaxis": {
            "gridcolor": "white",
            "linecolor": "white",
            "ticks": ""
           },
           "baxis": {
            "gridcolor": "white",
            "linecolor": "white",
            "ticks": ""
           },
           "bgcolor": "#E5ECF6",
           "caxis": {
            "gridcolor": "white",
            "linecolor": "white",
            "ticks": ""
           }
          },
          "title": {
           "x": 0.05
          },
          "xaxis": {
           "automargin": true,
           "gridcolor": "white",
           "linecolor": "white",
           "ticks": "",
           "title": {
            "standoff": 15
           },
           "zerolinecolor": "white",
           "zerolinewidth": 2
          },
          "yaxis": {
           "automargin": true,
           "gridcolor": "white",
           "linecolor": "white",
           "ticks": "",
           "title": {
            "standoff": 15
           },
           "zerolinecolor": "white",
           "zerolinewidth": 2
          }
         }
        },
        "title": {
         "text": "Emisiones Cárnicas y Población Bovina por País"
        },
        "updatemenus": [
         {
          "active": 0,
          "buttons": [
           {
            "args": [
             {
              "visible": [
               true,
               true,
               true,
               true,
               true,
               true,
               true,
               true,
               true,
               true
              ]
             },
             {
              "title": "Emisiones Cárnicas y Población Bovina por País"
             }
            ],
            "label": "Todos los países",
            "method": "update"
           },
           {
            "args": [
             {
              "visible": [
               true,
               true,
               false,
               false,
               false,
               false,
               false,
               false,
               false,
               false
              ]
             },
             {
              "title": "Emisiones Cárnicas y Población Bovina - France"
             }
            ],
            "label": "France",
            "method": "update"
           },
           {
            "args": [
             {
              "visible": [
               false,
               false,
               true,
               true,
               false,
               false,
               false,
               false,
               false,
               false
              ]
             },
             {
              "title": "Emisiones Cárnicas y Población Bovina - Ireland"
             }
            ],
            "label": "Ireland",
            "method": "update"
           },
           {
            "args": [
             {
              "visible": [
               false,
               false,
               false,
               false,
               true,
               true,
               false,
               false,
               false,
               false
              ]
             },
             {
              "title": "Emisiones Cárnicas y Población Bovina - Italy"
             }
            ],
            "label": "Italy",
            "method": "update"
           },
           {
            "args": [
             {
              "visible": [
               false,
               false,
               false,
               false,
               false,
               false,
               true,
               true,
               false,
               false
              ]
             },
             {
              "title": "Emisiones Cárnicas y Población Bovina - Poland"
             }
            ],
            "label": "Poland",
            "method": "update"
           },
           {
            "args": [
             {
              "visible": [
               false,
               false,
               false,
               false,
               false,
               false,
               false,
               false,
               true,
               true
              ]
             },
             {
              "title": "Emisiones Cárnicas y Población Bovina - Spain"
             }
            ],
            "label": "Spain",
            "method": "update"
           }
          ]
         }
        ],
        "xaxis": {
         "title": {
          "text": "Año"
         }
        },
        "yaxis": {
         "title": {
          "text": "Valor (millones de toneladas / miles de cabezas)"
         }
        }
       }
      }
     },
     "metadata": {},
     "output_type": "display_data"
    },
    {
     "data": {
      "text/plain": [
       "'grafico.html'"
      ]
     },
     "execution_count": 244,
     "metadata": {},
     "output_type": "execute_result"
    }
   ],
   "source": [
    "# Crear una lista con los nombres de los países\n",
    "paises = ['France', 'Ireland', 'Italy', 'Poland', 'Spain']\n",
    "df= df_merged\n",
    "\n",
    "\n",
    "\n",
    "# Filtrar el dataframe original por los países seleccionados\n",
    "df_filtered = df_merged[df_merged['Pais'].isin(paises)]\n",
    "\n",
    "# Inicializar la figura\n",
    "fig = go.Figure()\n",
    "\n",
    "# Iterar sobre cada país\n",
    "for pais in paises:\n",
    "    # Filtrar los datos del país\n",
    "    data_pais = df_filtered[df_filtered['Pais'] == pais]\n",
    "    \n",
    "    # Multiplicar las emisiones cárnicas por 1000 para convertirlas a millones de toneladas\n",
    "    emisiones_carnicas_millones = data_pais['Emisiones Carnicos'] * 1000\n",
    "    \n",
    "    # Agregar una línea para las emisiones cárnicas del país\n",
    "    fig.add_trace(go.Scatter(\n",
    "        x=data_pais['Año'],\n",
    "        y=emisiones_carnicas_millones,\n",
    "        name=f'Emisiones Cárnicas - {pais}',\n",
    "        mode='lines',\n",
    "        visible='legendonly'  # Las trazas no están visibles por defecto\n",
    "    ))\n",
    "    \n",
    "    # Población bovina del país\n",
    "    fig.add_trace(go.Scatter(\n",
    "        x=data_pais['Año'],\n",
    "        y=data_pais['Pob.bovina'],\n",
    "        name=f'Población Bovina - {pais}',\n",
    "        mode='lines',\n",
    "        visible='legendonly'  # No se ven por defecto\n",
    "    ))\n",
    "\n",
    "# Diseño del grafico\n",
    "fig.update_layout(\n",
    "    title='Emisiones Cárnicas y Población Bovina por País',\n",
    "    xaxis_title='Año',\n",
    "    yaxis_title='Valor (millones de toneladas / miles de cabezas)',\n",
    "    legend=dict(\n",
    "        orientation='v',\n",
    "        x=1.1,\n",
    "        y=0.5,\n",
    "        yanchor='middle',\n",
    "        bgcolor='rgba(255, 255, 255, 0.5)',\n",
    "        bordercolor='rgba(0, 0, 0, 0.5)',\n",
    "        borderwidth=1\n",
    "    )\n",
    ")\n",
    "\n",
    "# Mostrar la leyenda y habilitar el selector de países\n",
    "fig.update_layout(\n",
    "    updatemenus=[\n",
    "        dict(\n",
    "            active=0,\n",
    "            buttons=[\n",
    "                dict(label='Todos los países',\n",
    "                     method='update',\n",
    "                     args=[{'visible': [True] * (len(paises) * 2)},\n",
    "                           {'title': 'Emisiones Cárnicas y Población Bovina por País'}]),\n",
    "                *[\n",
    "                    dict(label=pais,\n",
    "                         method='update',\n",
    "                         args=[{'visible': [False] * (i * 2) + [True, True] + [False] * ((len(paises) - i - 1) * 2)},\n",
    "                               {'title': f'Emisiones Cárnicas y Población Bovina - {pais}'}])\n",
    "                    for i, pais in enumerate(paises)\n",
    "                ]\n",
    "            ]\n",
    "        )\n",
    "    ]\n",
    ")\n",
    "\n",
    "fig.show()\n",
    "offline.plot(fig, filename='grafico.html', auto_open=False)"
   ]
  },
  {
   "cell_type": "code",
   "execution_count": null,
   "metadata": {},
   "outputs": [],
   "source": []
  },
  {
   "attachments": {},
   "cell_type": "markdown",
   "metadata": {},
   "source": [
    "## CREAR CSV DE DATAFRAMES"
   ]
  },
  {
   "cell_type": "code",
   "execution_count": 73,
   "metadata": {},
   "outputs": [],
   "source": [
    "#carnic_emisiones.to_csv(\"Data\\emisiones_carne.csv\")\n",
    "\n",
    "#agri_emisiones.to_csv(\"Data\\emisiones_agricultura.csv\")\n",
    "\n",
    "#agri_car_emision.to_csv(\"Data\\Total_agri_car_emision.csv\")"
   ]
  },
  {
   "attachments": {},
   "cell_type": "markdown",
   "metadata": {},
   "source": [
    "## PIVOT data"
   ]
  },
  {
   "cell_type": "code",
   "execution_count": 15,
   "metadata": {},
   "outputs": [],
   "source": [
    "df_previo = pd.pivot_table(agri_car_emision, index='Año', columns='Pais', aggfunc='sum')"
   ]
  },
  {
   "cell_type": "code",
   "execution_count": 16,
   "metadata": {},
   "outputs": [
    {
     "data": {
      "text/html": [
       "<div>\n",
       "<style scoped>\n",
       "    .dataframe tbody tr th:only-of-type {\n",
       "        vertical-align: middle;\n",
       "    }\n",
       "\n",
       "    .dataframe tbody tr th {\n",
       "        vertical-align: top;\n",
       "    }\n",
       "\n",
       "    .dataframe thead tr th {\n",
       "        text-align: left;\n",
       "    }\n",
       "\n",
       "    .dataframe thead tr:last-of-type th {\n",
       "        text-align: right;\n",
       "    }\n",
       "</style>\n",
       "<table border=\"1\" class=\"dataframe\">\n",
       "  <thead>\n",
       "    <tr>\n",
       "      <th></th>\n",
       "      <th colspan=\"10\" halign=\"left\">Emisiones Agricultura</th>\n",
       "      <th>...</th>\n",
       "      <th colspan=\"10\" halign=\"left\">Emisiones Carnicos</th>\n",
       "    </tr>\n",
       "    <tr>\n",
       "      <th>Pais</th>\n",
       "      <th>Austria</th>\n",
       "      <th>Belgium</th>\n",
       "      <th>Bulgaria</th>\n",
       "      <th>Croatia</th>\n",
       "      <th>Cyprus</th>\n",
       "      <th>Czechia</th>\n",
       "      <th>Denmark</th>\n",
       "      <th>Estonia</th>\n",
       "      <th>European Union - 27 countries (from 2020)</th>\n",
       "      <th>Finland</th>\n",
       "      <th>...</th>\n",
       "      <th>Netherlands</th>\n",
       "      <th>Norway</th>\n",
       "      <th>Poland</th>\n",
       "      <th>Portugal</th>\n",
       "      <th>Romania</th>\n",
       "      <th>Slovakia</th>\n",
       "      <th>Slovenia</th>\n",
       "      <th>Spain</th>\n",
       "      <th>Sweden</th>\n",
       "      <th>Switzerland</th>\n",
       "    </tr>\n",
       "    <tr>\n",
       "      <th>Año</th>\n",
       "      <th></th>\n",
       "      <th></th>\n",
       "      <th></th>\n",
       "      <th></th>\n",
       "      <th></th>\n",
       "      <th></th>\n",
       "      <th></th>\n",
       "      <th></th>\n",
       "      <th></th>\n",
       "      <th></th>\n",
       "      <th></th>\n",
       "      <th></th>\n",
       "      <th></th>\n",
       "      <th></th>\n",
       "      <th></th>\n",
       "      <th></th>\n",
       "      <th></th>\n",
       "      <th></th>\n",
       "      <th></th>\n",
       "      <th></th>\n",
       "      <th></th>\n",
       "    </tr>\n",
       "  </thead>\n",
       "  <tbody>\n",
       "    <tr>\n",
       "      <th>2012.0</th>\n",
       "      <td>7219.63242</td>\n",
       "      <td>9589.06949</td>\n",
       "      <td>4989.98500</td>\n",
       "      <td>3064.47141</td>\n",
       "      <td>555.76521</td>\n",
       "      <td>7580.47290</td>\n",
       "      <td>12073.31125</td>\n",
       "      <td>1411.12972</td>\n",
       "      <td>375910.66513</td>\n",
       "      <td>6244.97874</td>\n",
       "      <td>...</td>\n",
       "      <td>13.49515</td>\n",
       "      <td>3.01639</td>\n",
       "      <td>16.98683</td>\n",
       "      <td>4.68302</td>\n",
       "      <td>10.51529</td>\n",
       "      <td>1.47083</td>\n",
       "      <td>1.32732</td>\n",
       "      <td>25.23987</td>\n",
       "      <td>3.93793</td>\n",
       "      <td>4.81146</td>\n",
       "    </tr>\n",
       "    <tr>\n",
       "      <th>2013.0</th>\n",
       "      <td>7218.38117</td>\n",
       "      <td>9589.28971</td>\n",
       "      <td>5437.63220</td>\n",
       "      <td>2803.68088</td>\n",
       "      <td>513.52301</td>\n",
       "      <td>7492.04456</td>\n",
       "      <td>12068.33628</td>\n",
       "      <td>1453.05160</td>\n",
       "      <td>378088.77106</td>\n",
       "      <td>6356.74039</td>\n",
       "      <td>...</td>\n",
       "      <td>13.79210</td>\n",
       "      <td>3.04937</td>\n",
       "      <td>17.03994</td>\n",
       "      <td>4.61438</td>\n",
       "      <td>10.62990</td>\n",
       "      <td>1.44747</td>\n",
       "      <td>1.31574</td>\n",
       "      <td>24.49500</td>\n",
       "      <td>3.96888</td>\n",
       "      <td>4.76017</td>\n",
       "    </tr>\n",
       "    <tr>\n",
       "      <th>2014.0</th>\n",
       "      <td>7353.56622</td>\n",
       "      <td>9717.90820</td>\n",
       "      <td>5857.90205</td>\n",
       "      <td>2738.91618</td>\n",
       "      <td>499.57908</td>\n",
       "      <td>7567.49994</td>\n",
       "      <td>12204.85266</td>\n",
       "      <td>1499.68819</td>\n",
       "      <td>383145.99323</td>\n",
       "      <td>6415.65925</td>\n",
       "      <td>...</td>\n",
       "      <td>13.91690</td>\n",
       "      <td>3.07223</td>\n",
       "      <td>17.17146</td>\n",
       "      <td>4.63104</td>\n",
       "      <td>10.86415</td>\n",
       "      <td>1.42800</td>\n",
       "      <td>1.34320</td>\n",
       "      <td>25.19307</td>\n",
       "      <td>3.96300</td>\n",
       "      <td>4.79211</td>\n",
       "    </tr>\n",
       "    <tr>\n",
       "      <th>2015.0</th>\n",
       "      <td>7383.37600</td>\n",
       "      <td>9724.89518</td>\n",
       "      <td>5896.83094</td>\n",
       "      <td>2789.98720</td>\n",
       "      <td>506.45595</td>\n",
       "      <td>8172.66450</td>\n",
       "      <td>12041.45943</td>\n",
       "      <td>1461.36991</td>\n",
       "      <td>384664.52024</td>\n",
       "      <td>6398.89250</td>\n",
       "      <td>...</td>\n",
       "      <td>14.42786</td>\n",
       "      <td>3.11828</td>\n",
       "      <td>17.36665</td>\n",
       "      <td>4.69322</td>\n",
       "      <td>10.91800</td>\n",
       "      <td>1.42448</td>\n",
       "      <td>1.38559</td>\n",
       "      <td>25.93048</td>\n",
       "      <td>3.94959</td>\n",
       "      <td>4.77579</td>\n",
       "    </tr>\n",
       "    <tr>\n",
       "      <th>2016.0</th>\n",
       "      <td>7496.30882</td>\n",
       "      <td>9611.31171</td>\n",
       "      <td>6204.28809</td>\n",
       "      <td>2747.77503</td>\n",
       "      <td>530.34982</td>\n",
       "      <td>8413.62522</td>\n",
       "      <td>12248.18595</td>\n",
       "      <td>1427.53611</td>\n",
       "      <td>386737.21086</td>\n",
       "      <td>6445.41898</td>\n",
       "      <td>...</td>\n",
       "      <td>14.87561</td>\n",
       "      <td>3.17917</td>\n",
       "      <td>17.09022</td>\n",
       "      <td>4.79516</td>\n",
       "      <td>10.85523</td>\n",
       "      <td>1.38399</td>\n",
       "      <td>1.41011</td>\n",
       "      <td>26.18989</td>\n",
       "      <td>3.94045</td>\n",
       "      <td>4.74080</td>\n",
       "    </tr>\n",
       "    <tr>\n",
       "      <th>2017.0</th>\n",
       "      <td>7451.57413</td>\n",
       "      <td>9662.79314</td>\n",
       "      <td>6171.68552</td>\n",
       "      <td>2846.83399</td>\n",
       "      <td>545.21467</td>\n",
       "      <td>8199.63144</td>\n",
       "      <td>12294.62234</td>\n",
       "      <td>1480.10863</td>\n",
       "      <td>388550.91275</td>\n",
       "      <td>6353.01667</td>\n",
       "      <td>...</td>\n",
       "      <td>14.73363</td>\n",
       "      <td>3.16617</td>\n",
       "      <td>17.67603</td>\n",
       "      <td>4.90849</td>\n",
       "      <td>10.61135</td>\n",
       "      <td>1.37736</td>\n",
       "      <td>1.38517</td>\n",
       "      <td>26.63711</td>\n",
       "      <td>3.97582</td>\n",
       "      <td>4.69638</td>\n",
       "    </tr>\n",
       "    <tr>\n",
       "      <th>2018.0</th>\n",
       "      <td>7337.53020</td>\n",
       "      <td>9542.62309</td>\n",
       "      <td>6030.93491</td>\n",
       "      <td>2733.47074</td>\n",
       "      <td>550.69014</td>\n",
       "      <td>7997.77979</td>\n",
       "      <td>12158.42628</td>\n",
       "      <td>1481.81033</td>\n",
       "      <td>385529.22408</td>\n",
       "      <td>6303.22693</td>\n",
       "      <td>...</td>\n",
       "      <td>14.22254</td>\n",
       "      <td>3.14848</td>\n",
       "      <td>17.99255</td>\n",
       "      <td>4.98678</td>\n",
       "      <td>10.50771</td>\n",
       "      <td>1.38079</td>\n",
       "      <td>1.37896</td>\n",
       "      <td>26.65623</td>\n",
       "      <td>3.95996</td>\n",
       "      <td>4.68263</td>\n",
       "    </tr>\n",
       "    <tr>\n",
       "      <th>2019.0</th>\n",
       "      <td>7228.43121</td>\n",
       "      <td>9569.47992</td>\n",
       "      <td>6010.04404</td>\n",
       "      <td>2723.96124</td>\n",
       "      <td>566.02546</td>\n",
       "      <td>7941.37344</td>\n",
       "      <td>12091.18911</td>\n",
       "      <td>1561.10955</td>\n",
       "      <td>380628.20796</td>\n",
       "      <td>6452.31587</td>\n",
       "      <td>...</td>\n",
       "      <td>14.07605</td>\n",
       "      <td>3.05831</td>\n",
       "      <td>18.07382</td>\n",
       "      <td>5.04600</td>\n",
       "      <td>10.41965</td>\n",
       "      <td>1.34108</td>\n",
       "      <td>1.39306</td>\n",
       "      <td>26.78479</td>\n",
       "      <td>3.90404</td>\n",
       "      <td>4.60704</td>\n",
       "    </tr>\n",
       "    <tr>\n",
       "      <th>2020.0</th>\n",
       "      <td>7204.65746</td>\n",
       "      <td>9525.61610</td>\n",
       "      <td>5984.16819</td>\n",
       "      <td>2703.42072</td>\n",
       "      <td>603.76316</td>\n",
       "      <td>7725.54783</td>\n",
       "      <td>12401.16878</td>\n",
       "      <td>1571.30974</td>\n",
       "      <td>382338.78683</td>\n",
       "      <td>6421.00459</td>\n",
       "      <td>...</td>\n",
       "      <td>13.99269</td>\n",
       "      <td>3.06387</td>\n",
       "      <td>18.47249</td>\n",
       "      <td>5.08921</td>\n",
       "      <td>10.50285</td>\n",
       "      <td>1.31341</td>\n",
       "      <td>1.39292</td>\n",
       "      <td>27.26267</td>\n",
       "      <td>3.87959</td>\n",
       "      <td>4.57166</td>\n",
       "    </tr>\n",
       "    <tr>\n",
       "      <th>2021.0</th>\n",
       "      <td>7228.38116</td>\n",
       "      <td>9423.60419</td>\n",
       "      <td>6112.44634</td>\n",
       "      <td>2703.64094</td>\n",
       "      <td>626.82620</td>\n",
       "      <td>7852.38454</td>\n",
       "      <td>12086.46439</td>\n",
       "      <td>1585.52394</td>\n",
       "      <td>378808.90047</td>\n",
       "      <td>6309.41311</td>\n",
       "      <td>...</td>\n",
       "      <td>13.72012</td>\n",
       "      <td>3.10852</td>\n",
       "      <td>18.55131</td>\n",
       "      <td>5.10349</td>\n",
       "      <td>10.16308</td>\n",
       "      <td>1.27313</td>\n",
       "      <td>1.38967</td>\n",
       "      <td>27.36669</td>\n",
       "      <td>3.88824</td>\n",
       "      <td>4.58829</td>\n",
       "    </tr>\n",
       "  </tbody>\n",
       "</table>\n",
       "<p>10 rows × 62 columns</p>\n",
       "</div>"
      ],
      "text/plain": [
       "       Emisiones Agricultura                                                 \\\n",
       "Pais                 Austria     Belgium    Bulgaria     Croatia     Cyprus   \n",
       "Año                                                                           \n",
       "2012.0            7219.63242  9589.06949  4989.98500  3064.47141  555.76521   \n",
       "2013.0            7218.38117  9589.28971  5437.63220  2803.68088  513.52301   \n",
       "2014.0            7353.56622  9717.90820  5857.90205  2738.91618  499.57908   \n",
       "2015.0            7383.37600  9724.89518  5896.83094  2789.98720  506.45595   \n",
       "2016.0            7496.30882  9611.31171  6204.28809  2747.77503  530.34982   \n",
       "2017.0            7451.57413  9662.79314  6171.68552  2846.83399  545.21467   \n",
       "2018.0            7337.53020  9542.62309  6030.93491  2733.47074  550.69014   \n",
       "2019.0            7228.43121  9569.47992  6010.04404  2723.96124  566.02546   \n",
       "2020.0            7204.65746  9525.61610  5984.16819  2703.42072  603.76316   \n",
       "2021.0            7228.38116  9423.60419  6112.44634  2703.64094  626.82620   \n",
       "\n",
       "                                             \\\n",
       "Pais       Czechia      Denmark     Estonia   \n",
       "Año                                           \n",
       "2012.0  7580.47290  12073.31125  1411.12972   \n",
       "2013.0  7492.04456  12068.33628  1453.05160   \n",
       "2014.0  7567.49994  12204.85266  1499.68819   \n",
       "2015.0  8172.66450  12041.45943  1461.36991   \n",
       "2016.0  8413.62522  12248.18595  1427.53611   \n",
       "2017.0  8199.63144  12294.62234  1480.10863   \n",
       "2018.0  7997.77979  12158.42628  1481.81033   \n",
       "2019.0  7941.37344  12091.18911  1561.10955   \n",
       "2020.0  7725.54783  12401.16878  1571.30974   \n",
       "2021.0  7852.38454  12086.46439  1585.52394   \n",
       "\n",
       "                                                              ...  \\\n",
       "Pais   European Union - 27 countries (from 2020)     Finland  ...   \n",
       "Año                                                           ...   \n",
       "2012.0                              375910.66513  6244.97874  ...   \n",
       "2013.0                              378088.77106  6356.74039  ...   \n",
       "2014.0                              383145.99323  6415.65925  ...   \n",
       "2015.0                              384664.52024  6398.89250  ...   \n",
       "2016.0                              386737.21086  6445.41898  ...   \n",
       "2017.0                              388550.91275  6353.01667  ...   \n",
       "2018.0                              385529.22408  6303.22693  ...   \n",
       "2019.0                              380628.20796  6452.31587  ...   \n",
       "2020.0                              382338.78683  6421.00459  ...   \n",
       "2021.0                              378808.90047  6309.41311  ...   \n",
       "\n",
       "       Emisiones Carnicos                                                 \\\n",
       "Pais          Netherlands   Norway    Poland Portugal   Romania Slovakia   \n",
       "Año                                                                        \n",
       "2012.0           13.49515  3.01639  16.98683  4.68302  10.51529  1.47083   \n",
       "2013.0           13.79210  3.04937  17.03994  4.61438  10.62990  1.44747   \n",
       "2014.0           13.91690  3.07223  17.17146  4.63104  10.86415  1.42800   \n",
       "2015.0           14.42786  3.11828  17.36665  4.69322  10.91800  1.42448   \n",
       "2016.0           14.87561  3.17917  17.09022  4.79516  10.85523  1.38399   \n",
       "2017.0           14.73363  3.16617  17.67603  4.90849  10.61135  1.37736   \n",
       "2018.0           14.22254  3.14848  17.99255  4.98678  10.50771  1.38079   \n",
       "2019.0           14.07605  3.05831  18.07382  5.04600  10.41965  1.34108   \n",
       "2020.0           13.99269  3.06387  18.47249  5.08921  10.50285  1.31341   \n",
       "2021.0           13.72012  3.10852  18.55131  5.10349  10.16308  1.27313   \n",
       "\n",
       "                                                \n",
       "Pais   Slovenia     Spain   Sweden Switzerland  \n",
       "Año                                             \n",
       "2012.0  1.32732  25.23987  3.93793     4.81146  \n",
       "2013.0  1.31574  24.49500  3.96888     4.76017  \n",
       "2014.0  1.34320  25.19307  3.96300     4.79211  \n",
       "2015.0  1.38559  25.93048  3.94959     4.77579  \n",
       "2016.0  1.41011  26.18989  3.94045     4.74080  \n",
       "2017.0  1.38517  26.63711  3.97582     4.69638  \n",
       "2018.0  1.37896  26.65623  3.95996     4.68263  \n",
       "2019.0  1.39306  26.78479  3.90404     4.60704  \n",
       "2020.0  1.39292  27.26267  3.87959     4.57166  \n",
       "2021.0  1.38967  27.36669  3.88824     4.58829  \n",
       "\n",
       "[10 rows x 62 columns]"
      ]
     },
     "execution_count": 16,
     "metadata": {},
     "output_type": "execute_result"
    }
   ],
   "source": [
    "df_previo"
   ]
  },
  {
   "cell_type": "code",
   "execution_count": 12,
   "metadata": {},
   "outputs": [],
   "source": [
    "#divisimos en los dos data sets.\n",
    "df_BAJA = df_previo[[ \"Czechia\", \"Denmark\",\"Finland\", \"Slovenia\", \"Slovakia\", \"Greece\", \"Hungary\", \"Bulgaria\", \"Croatia\", \"Cyprus\", \"Estonia\", \"Iceland\", \"Latvia\", \"Luxembourg\", \"Malta\"]]"
   ]
  },
  {
   "cell_type": "code",
   "execution_count": 13,
   "metadata": {},
   "outputs": [],
   "source": [
    "df_ALTA = df_previo[[ 'Austria', 'Belgium', 'France',\n",
    "       'Germany (until 1990 former territory of the FRG)', 'Ireland', 'Italy',\n",
    "       'Lithuania', 'Netherlands', 'Poland', 'Portugal', 'Romania', 'Spain',\n",
    "       'Sweden', 'Switzerland']]"
   ]
  },
  {
   "cell_type": "code",
   "execution_count": 14,
   "metadata": {},
   "outputs": [
    {
     "data": {
      "text/plain": [
       "<function matplotlib.pyplot.title(label, fontdict=None, loc=None, pad=None, *, y=None, **kwargs)>"
      ]
     },
     "execution_count": 14,
     "metadata": {},
     "output_type": "execute_result"
    },
    {
     "data": {
      "image/png": "[encoded data removed]",
      "text/plain": [
       "<Figure size 1200x800 with 1 Axes>"
      ]
     },
     "metadata": {},
     "output_type": "display_data"
    }
   ],
   "source": [
    "plt.figure(figsize=(12,8))\n",
    "sns.lineplot(data = df_ALTA)\n",
    "plt.legend(bbox_to_anchor=(1.05, 1), loc='upper left')\n",
    "plt.title"
   ]
  }
 ],
 "metadata": {
  "kernelspec": {
   "display_name": "Python 3",
   "language": "python",
   "name": "python3"
  },
  "language_info": {
   "codemirror_mode": {
    "name": "ipython",
    "version": 3
   },
   "file_extension": ".py",
   "mimetype": "text/x-python",
   "name": "python",
   "nbconvert_exporter": "python",
   "pygments_lexer": "ipython3",
   "version": "3.7.4"
  },
  "orig_nbformat": 4
 },
 "nbformat": 4,
 "nbformat_minor": 2
}
