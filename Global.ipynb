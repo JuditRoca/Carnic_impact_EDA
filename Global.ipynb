{
 "cells": [
  {
   "attachments": {},
   "cell_type": "markdown",
   "metadata": {},
   "source": [
    "fuente_3= \"https://ourworldindata.org/\"  #globaltotalemisions"
   ]
  },
  {
   "cell_type": "code",
   "execution_count": 58,
   "metadata": {},
   "outputs": [],
   "source": [
    "import seaborn as sns\n",
    "import pandas as pd\n",
    "import numpy as np\n",
    "import matplotlib.pyplot as plt"
   ]
  },
  {
   "cell_type": "code",
   "execution_count": 36,
   "metadata": {},
   "outputs": [
    {
     "name": "stdout",
     "output_type": "stream",
     "text": [
      "<class 'pandas.core.frame.DataFrame'>\n",
      "RangeIndex: 37496 entries, 0 to 37495\n",
      "Data columns (total 4 columns):\n",
      " #   Column                                              Non-Null Count  Dtype  \n",
      "---  ------                                              --------------  -----  \n",
      " 0   Entity                                              37496 non-null  object \n",
      " 1   Code                                                34400 non-null  object \n",
      " 2   Year                                                37496 non-null  int64  \n",
      " 3   Annual greenhouse gas emissions in CO2 equivalents  37496 non-null  float64\n",
      "dtypes: float64(1), int64(1), object(2)\n",
      "memory usage: 1.1+ MB\n"
     ]
    }
   ],
   "source": [
    "import pandas as pd\n",
    "df_3=pd.read_csv(\"data/total-ghg-emissions.csv\")\n",
    "df_3.info()"
   ]
  },
  {
   "cell_type": "code",
   "execution_count": 37,
   "metadata": {},
   "outputs": [],
   "source": [
    "df_3.drop(columns=\"Code\", inplace=True)"
   ]
  },
  {
   "cell_type": "code",
   "execution_count": 38,
   "metadata": {},
   "outputs": [],
   "source": [
    "\n",
    "df_3.rename(columns={\"Annual greenhouse gas emissions in CO2 equivalents\":\"Emisiones\", \"Entity\": \"PAIS\"}, inplace=True)\n"
   ]
  },
  {
   "cell_type": "code",
   "execution_count": 56,
   "metadata": {},
   "outputs": [],
   "source": [
    "df_pre = pd.pivot_table(df_3, index='PAIS', columns='Year', values=\"Emisiones\", aggfunc=\"sum\")"
   ]
  },
  {
   "attachments": {},
   "cell_type": "markdown",
   "metadata": {},
   "source": [
    "DF_TOTALEMISSIONS DF FINAL"
   ]
  },
  {
   "cell_type": "code",
   "execution_count": 57,
   "metadata": {},
   "outputs": [
    {
     "data": {
      "text/html": [
       "<div>\n",
       "<style scoped>\n",
       "    .dataframe tbody tr th:only-of-type {\n",
       "        vertical-align: middle;\n",
       "    }\n",
       "\n",
       "    .dataframe tbody tr th {\n",
       "        vertical-align: top;\n",
       "    }\n",
       "\n",
       "    .dataframe thead th {\n",
       "        text-align: right;\n",
       "    }\n",
       "</style>\n",
       "<table border=\"1\" class=\"dataframe\">\n",
       "  <thead>\n",
       "    <tr style=\"text-align: right;\">\n",
       "      <th>Year</th>\n",
       "      <th>2012</th>\n",
       "      <th>2013</th>\n",
       "      <th>2014</th>\n",
       "      <th>2015</th>\n",
       "      <th>2016</th>\n",
       "      <th>2017</th>\n",
       "      <th>2018</th>\n",
       "      <th>2019</th>\n",
       "      <th>2020</th>\n",
       "      <th>2021</th>\n",
       "    </tr>\n",
       "    <tr>\n",
       "      <th>PAIS</th>\n",
       "      <th></th>\n",
       "      <th></th>\n",
       "      <th></th>\n",
       "      <th></th>\n",
       "      <th></th>\n",
       "      <th></th>\n",
       "      <th></th>\n",
       "      <th></th>\n",
       "      <th></th>\n",
       "      <th></th>\n",
       "    </tr>\n",
       "  </thead>\n",
       "  <tbody>\n",
       "    <tr>\n",
       "      <th>Afghanistan</th>\n",
       "      <td>3.375029e+07</td>\n",
       "      <td>3.291279e+07</td>\n",
       "      <td>3.346103e+07</td>\n",
       "      <td>3.295040e+07</td>\n",
       "      <td>3.268460e+07</td>\n",
       "      <td>3.364396e+07</td>\n",
       "      <td>3.439022e+07</td>\n",
       "      <td>3.587448e+07</td>\n",
       "      <td>3.777789e+07</td>\n",
       "      <td>3.838893e+07</td>\n",
       "    </tr>\n",
       "    <tr>\n",
       "      <th>Africa</th>\n",
       "      <td>4.862142e+09</td>\n",
       "      <td>4.771323e+09</td>\n",
       "      <td>4.751795e+09</td>\n",
       "      <td>4.656470e+09</td>\n",
       "      <td>4.698851e+09</td>\n",
       "      <td>4.742433e+09</td>\n",
       "      <td>4.683634e+09</td>\n",
       "      <td>4.719214e+09</td>\n",
       "      <td>4.640355e+09</td>\n",
       "      <td>4.728741e+09</td>\n",
       "    </tr>\n",
       "    <tr>\n",
       "      <th>Albania</th>\n",
       "      <td>9.281504e+06</td>\n",
       "      <td>9.504178e+06</td>\n",
       "      <td>1.034336e+07</td>\n",
       "      <td>9.231435e+06</td>\n",
       "      <td>8.897308e+06</td>\n",
       "      <td>9.733296e+06</td>\n",
       "      <td>8.939390e+06</td>\n",
       "      <td>8.700098e+06</td>\n",
       "      <td>8.520600e+06</td>\n",
       "      <td>8.348606e+06</td>\n",
       "    </tr>\n",
       "    <tr>\n",
       "      <th>Algeria</th>\n",
       "      <td>2.306786e+08</td>\n",
       "      <td>2.345268e+08</td>\n",
       "      <td>2.480967e+08</td>\n",
       "      <td>2.579293e+08</td>\n",
       "      <td>2.618160e+08</td>\n",
       "      <td>2.693219e+08</td>\n",
       "      <td>2.789103e+08</td>\n",
       "      <td>2.814011e+08</td>\n",
       "      <td>2.765457e+08</td>\n",
       "      <td>2.812001e+08</td>\n",
       "    </tr>\n",
       "    <tr>\n",
       "      <th>Andorra</th>\n",
       "      <td>6.379988e+05</td>\n",
       "      <td>6.232582e+05</td>\n",
       "      <td>6.030320e+05</td>\n",
       "      <td>6.033842e+05</td>\n",
       "      <td>6.045086e+05</td>\n",
       "      <td>5.997538e+05</td>\n",
       "      <td>6.267548e+05</td>\n",
       "      <td>6.115609e+05</td>\n",
       "      <td>5.780503e+05</td>\n",
       "      <td>5.796439e+05</td>\n",
       "    </tr>\n",
       "    <tr>\n",
       "      <th>...</th>\n",
       "      <td>...</td>\n",
       "      <td>...</td>\n",
       "      <td>...</td>\n",
       "      <td>...</td>\n",
       "      <td>...</td>\n",
       "      <td>...</td>\n",
       "      <td>...</td>\n",
       "      <td>...</td>\n",
       "      <td>...</td>\n",
       "      <td>...</td>\n",
       "    </tr>\n",
       "    <tr>\n",
       "      <th>Vietnam</th>\n",
       "      <td>3.386204e+08</td>\n",
       "      <td>3.582358e+08</td>\n",
       "      <td>4.822919e+08</td>\n",
       "      <td>4.926963e+08</td>\n",
       "      <td>4.705644e+08</td>\n",
       "      <td>4.805653e+08</td>\n",
       "      <td>5.179395e+08</td>\n",
       "      <td>5.814392e+08</td>\n",
       "      <td>5.711886e+08</td>\n",
       "      <td>5.703437e+08</td>\n",
       "    </tr>\n",
       "    <tr>\n",
       "      <th>World</th>\n",
       "      <td>5.239318e+10</td>\n",
       "      <td>5.248306e+10</td>\n",
       "      <td>5.315534e+10</td>\n",
       "      <td>5.366048e+10</td>\n",
       "      <td>5.282262e+10</td>\n",
       "      <td>5.340529e+10</td>\n",
       "      <td>5.406630e+10</td>\n",
       "      <td>5.482132e+10</td>\n",
       "      <td>5.258525e+10</td>\n",
       "      <td>5.459320e+10</td>\n",
       "    </tr>\n",
       "    <tr>\n",
       "      <th>Yemen</th>\n",
       "      <td>4.595685e+07</td>\n",
       "      <td>5.494942e+07</td>\n",
       "      <td>5.268938e+07</td>\n",
       "      <td>3.247678e+07</td>\n",
       "      <td>2.804550e+07</td>\n",
       "      <td>2.783332e+07</td>\n",
       "      <td>2.748071e+07</td>\n",
       "      <td>3.169493e+07</td>\n",
       "      <td>3.148670e+07</td>\n",
       "      <td>3.140233e+07</td>\n",
       "    </tr>\n",
       "    <tr>\n",
       "      <th>Zambia</th>\n",
       "      <td>9.849161e+07</td>\n",
       "      <td>9.862299e+07</td>\n",
       "      <td>9.650617e+07</td>\n",
       "      <td>9.445469e+07</td>\n",
       "      <td>9.232654e+07</td>\n",
       "      <td>9.088521e+07</td>\n",
       "      <td>9.063078e+07</td>\n",
       "      <td>9.062614e+07</td>\n",
       "      <td>9.022377e+07</td>\n",
       "      <td>9.009422e+07</td>\n",
       "    </tr>\n",
       "    <tr>\n",
       "      <th>Zimbabwe</th>\n",
       "      <td>4.264767e+07</td>\n",
       "      <td>4.203560e+07</td>\n",
       "      <td>4.012675e+07</td>\n",
       "      <td>4.039597e+07</td>\n",
       "      <td>3.746738e+07</td>\n",
       "      <td>3.799946e+07</td>\n",
       "      <td>3.907934e+07</td>\n",
       "      <td>3.870142e+07</td>\n",
       "      <td>3.773323e+07</td>\n",
       "      <td>3.806001e+07</td>\n",
       "    </tr>\n",
       "  </tbody>\n",
       "</table>\n",
       "<p>218 rows × 10 columns</p>\n",
       "</div>"
      ],
      "text/plain": [
       "Year                 2012          2013          2014          2015  \\\n",
       "PAIS                                                                  \n",
       "Afghanistan  3.375029e+07  3.291279e+07  3.346103e+07  3.295040e+07   \n",
       "Africa       4.862142e+09  4.771323e+09  4.751795e+09  4.656470e+09   \n",
       "Albania      9.281504e+06  9.504178e+06  1.034336e+07  9.231435e+06   \n",
       "Algeria      2.306786e+08  2.345268e+08  2.480967e+08  2.579293e+08   \n",
       "Andorra      6.379988e+05  6.232582e+05  6.030320e+05  6.033842e+05   \n",
       "...                   ...           ...           ...           ...   \n",
       "Vietnam      3.386204e+08  3.582358e+08  4.822919e+08  4.926963e+08   \n",
       "World        5.239318e+10  5.248306e+10  5.315534e+10  5.366048e+10   \n",
       "Yemen        4.595685e+07  5.494942e+07  5.268938e+07  3.247678e+07   \n",
       "Zambia       9.849161e+07  9.862299e+07  9.650617e+07  9.445469e+07   \n",
       "Zimbabwe     4.264767e+07  4.203560e+07  4.012675e+07  4.039597e+07   \n",
       "\n",
       "Year                 2016          2017          2018          2019  \\\n",
       "PAIS                                                                  \n",
       "Afghanistan  3.268460e+07  3.364396e+07  3.439022e+07  3.587448e+07   \n",
       "Africa       4.698851e+09  4.742433e+09  4.683634e+09  4.719214e+09   \n",
       "Albania      8.897308e+06  9.733296e+06  8.939390e+06  8.700098e+06   \n",
       "Algeria      2.618160e+08  2.693219e+08  2.789103e+08  2.814011e+08   \n",
       "Andorra      6.045086e+05  5.997538e+05  6.267548e+05  6.115609e+05   \n",
       "...                   ...           ...           ...           ...   \n",
       "Vietnam      4.705644e+08  4.805653e+08  5.179395e+08  5.814392e+08   \n",
       "World        5.282262e+10  5.340529e+10  5.406630e+10  5.482132e+10   \n",
       "Yemen        2.804550e+07  2.783332e+07  2.748071e+07  3.169493e+07   \n",
       "Zambia       9.232654e+07  9.088521e+07  9.063078e+07  9.062614e+07   \n",
       "Zimbabwe     3.746738e+07  3.799946e+07  3.907934e+07  3.870142e+07   \n",
       "\n",
       "Year                 2020          2021  \n",
       "PAIS                                     \n",
       "Afghanistan  3.777789e+07  3.838893e+07  \n",
       "Africa       4.640355e+09  4.728741e+09  \n",
       "Albania      8.520600e+06  8.348606e+06  \n",
       "Algeria      2.765457e+08  2.812001e+08  \n",
       "Andorra      5.780503e+05  5.796439e+05  \n",
       "...                   ...           ...  \n",
       "Vietnam      5.711886e+08  5.703437e+08  \n",
       "World        5.258525e+10  5.459320e+10  \n",
       "Yemen        3.148670e+07  3.140233e+07  \n",
       "Zambia       9.022377e+07  9.009422e+07  \n",
       "Zimbabwe     3.773323e+07  3.806001e+07  \n",
       "\n",
       "[218 rows x 10 columns]"
      ]
     },
     "execution_count": 57,
     "metadata": {},
     "output_type": "execute_result"
    }
   ],
   "source": [
    "df_totalemissions = df_pre.loc[: ,2012:]\n",
    "df_totalemissions"
   ]
  },
  {
   "cell_type": "code",
   "execution_count": 62,
   "metadata": {},
   "outputs": [
    {
     "data": {
      "text/plain": [
       "Int64Index([2012, 2013, 2014, 2015, 2016, 2017, 2018, 2019, 2020, 2021], dtype='int64', name='Year')"
      ]
     },
     "execution_count": 62,
     "metadata": {},
     "output_type": "execute_result"
    }
   ],
   "source": [
    "df_totalemissions.columns"
   ]
  },
  {
   "cell_type": "code",
   "execution_count": 59,
   "metadata": {},
   "outputs": [
    {
     "ename": "ValueError",
     "evalue": "Could not interpret value `AÑO` for parameter `x`",
     "output_type": "error",
     "traceback": [
      "\u001b[1;31m---------------------------------------------------------------------------\u001b[0m",
      "\u001b[1;31mValueError\u001b[0m                                Traceback (most recent call last)",
      "\u001b[1;32m~\\AppData\\Local\\Temp\\ipykernel_5880\\1106394946.py\u001b[0m in \u001b[0;36m<module>\u001b[1;34m\u001b[0m\n\u001b[0;32m      1\u001b[0m \u001b[0mplt\u001b[0m\u001b[1;33m.\u001b[0m\u001b[0mfigure\u001b[0m\u001b[1;33m(\u001b[0m\u001b[0mfigsize\u001b[0m\u001b[1;33m=\u001b[0m\u001b[1;33m(\u001b[0m\u001b[1;36m12\u001b[0m\u001b[1;33m,\u001b[0m\u001b[1;36m8\u001b[0m\u001b[1;33m)\u001b[0m\u001b[1;33m)\u001b[0m\u001b[1;33m\u001b[0m\u001b[1;33m\u001b[0m\u001b[0m\n\u001b[1;32m----> 2\u001b[1;33m \u001b[0msns\u001b[0m\u001b[1;33m.\u001b[0m\u001b[0mhistplot\u001b[0m\u001b[1;33m(\u001b[0m\u001b[0mdata\u001b[0m \u001b[1;33m=\u001b[0m \u001b[0mdf_totalemissions\u001b[0m\u001b[1;33m,\u001b[0m \u001b[0mx\u001b[0m\u001b[1;33m=\u001b[0m \u001b[1;34m\"AÑO\"\u001b[0m\u001b[1;33m)\u001b[0m\u001b[1;33m;\u001b[0m\u001b[1;33m\u001b[0m\u001b[1;33m\u001b[0m\u001b[0m\n\u001b[0m",
      "\u001b[1;32mc:\\Users\\Usuario\\AppData\\Local\\Programs\\Python\\Python37\\lib\\site-packages\\seaborn\\distributions.py\u001b[0m in \u001b[0;36mhistplot\u001b[1;34m(data, x, y, hue, weights, stat, bins, binwidth, binrange, discrete, cumulative, common_bins, common_norm, multiple, element, fill, shrink, kde, kde_kws, line_kws, thresh, pthresh, pmax, cbar, cbar_ax, cbar_kws, palette, hue_order, hue_norm, color, log_scale, legend, ax, **kwargs)\u001b[0m\n\u001b[0;32m   1395\u001b[0m     p = _DistributionPlotter(\n\u001b[0;32m   1396\u001b[0m         \u001b[0mdata\u001b[0m\u001b[1;33m=\u001b[0m\u001b[0mdata\u001b[0m\u001b[1;33m,\u001b[0m\u001b[1;33m\u001b[0m\u001b[1;33m\u001b[0m\u001b[0m\n\u001b[1;32m-> 1397\u001b[1;33m         \u001b[0mvariables\u001b[0m\u001b[1;33m=\u001b[0m\u001b[0m_DistributionPlotter\u001b[0m\u001b[1;33m.\u001b[0m\u001b[0mget_semantics\u001b[0m\u001b[1;33m(\u001b[0m\u001b[0mlocals\u001b[0m\u001b[1;33m(\u001b[0m\u001b[1;33m)\u001b[0m\u001b[1;33m)\u001b[0m\u001b[1;33m\u001b[0m\u001b[1;33m\u001b[0m\u001b[0m\n\u001b[0m\u001b[0;32m   1398\u001b[0m     )\n\u001b[0;32m   1399\u001b[0m \u001b[1;33m\u001b[0m\u001b[0m\n",
      "\u001b[1;32mc:\\Users\\Usuario\\AppData\\Local\\Programs\\Python\\Python37\\lib\\site-packages\\seaborn\\distributions.py\u001b[0m in \u001b[0;36m__init__\u001b[1;34m(self, data, variables)\u001b[0m\n\u001b[0;32m    111\u001b[0m     ):\n\u001b[0;32m    112\u001b[0m \u001b[1;33m\u001b[0m\u001b[0m\n\u001b[1;32m--> 113\u001b[1;33m         \u001b[0msuper\u001b[0m\u001b[1;33m(\u001b[0m\u001b[1;33m)\u001b[0m\u001b[1;33m.\u001b[0m\u001b[0m__init__\u001b[0m\u001b[1;33m(\u001b[0m\u001b[0mdata\u001b[0m\u001b[1;33m=\u001b[0m\u001b[0mdata\u001b[0m\u001b[1;33m,\u001b[0m \u001b[0mvariables\u001b[0m\u001b[1;33m=\u001b[0m\u001b[0mvariables\u001b[0m\u001b[1;33m)\u001b[0m\u001b[1;33m\u001b[0m\u001b[1;33m\u001b[0m\u001b[0m\n\u001b[0m\u001b[0;32m    114\u001b[0m \u001b[1;33m\u001b[0m\u001b[0m\n\u001b[0;32m    115\u001b[0m     \u001b[1;33m@\u001b[0m\u001b[0mproperty\u001b[0m\u001b[1;33m\u001b[0m\u001b[1;33m\u001b[0m\u001b[0m\n",
      "\u001b[1;32mc:\\Users\\Usuario\\AppData\\Local\\Programs\\Python\\Python37\\lib\\site-packages\\seaborn\\_oldcore.py\u001b[0m in \u001b[0;36m__init__\u001b[1;34m(self, data, variables)\u001b[0m\n\u001b[0;32m    638\u001b[0m         \u001b[1;31m# information for numeric axes would be information about log scales.\u001b[0m\u001b[1;33m\u001b[0m\u001b[1;33m\u001b[0m\u001b[1;33m\u001b[0m\u001b[0m\n\u001b[0;32m    639\u001b[0m         \u001b[0mself\u001b[0m\u001b[1;33m.\u001b[0m\u001b[0m_var_ordered\u001b[0m \u001b[1;33m=\u001b[0m \u001b[1;33m{\u001b[0m\u001b[1;34m\"x\"\u001b[0m\u001b[1;33m:\u001b[0m \u001b[1;32mFalse\u001b[0m\u001b[1;33m,\u001b[0m \u001b[1;34m\"y\"\u001b[0m\u001b[1;33m:\u001b[0m \u001b[1;32mFalse\u001b[0m\u001b[1;33m}\u001b[0m  \u001b[1;31m# alt., used DefaultDict\u001b[0m\u001b[1;33m\u001b[0m\u001b[1;33m\u001b[0m\u001b[0m\n\u001b[1;32m--> 640\u001b[1;33m         \u001b[0mself\u001b[0m\u001b[1;33m.\u001b[0m\u001b[0massign_variables\u001b[0m\u001b[1;33m(\u001b[0m\u001b[0mdata\u001b[0m\u001b[1;33m,\u001b[0m \u001b[0mvariables\u001b[0m\u001b[1;33m)\u001b[0m\u001b[1;33m\u001b[0m\u001b[1;33m\u001b[0m\u001b[0m\n\u001b[0m\u001b[0;32m    641\u001b[0m \u001b[1;33m\u001b[0m\u001b[0m\n\u001b[0;32m    642\u001b[0m         \u001b[1;32mfor\u001b[0m \u001b[0mvar\u001b[0m\u001b[1;33m,\u001b[0m \u001b[0mcls\u001b[0m \u001b[1;32min\u001b[0m \u001b[0mself\u001b[0m\u001b[1;33m.\u001b[0m\u001b[0m_semantic_mappings\u001b[0m\u001b[1;33m.\u001b[0m\u001b[0mitems\u001b[0m\u001b[1;33m(\u001b[0m\u001b[1;33m)\u001b[0m\u001b[1;33m:\u001b[0m\u001b[1;33m\u001b[0m\u001b[1;33m\u001b[0m\u001b[0m\n",
      "\u001b[1;32mc:\\Users\\Usuario\\AppData\\Local\\Programs\\Python\\Python37\\lib\\site-packages\\seaborn\\_oldcore.py\u001b[0m in \u001b[0;36massign_variables\u001b[1;34m(self, data, variables)\u001b[0m\n\u001b[0;32m    700\u001b[0m             \u001b[0mself\u001b[0m\u001b[1;33m.\u001b[0m\u001b[0minput_format\u001b[0m \u001b[1;33m=\u001b[0m \u001b[1;34m\"long\"\u001b[0m\u001b[1;33m\u001b[0m\u001b[1;33m\u001b[0m\u001b[0m\n\u001b[0;32m    701\u001b[0m             plot_data, variables = self._assign_variables_longform(\n\u001b[1;32m--> 702\u001b[1;33m                 \u001b[0mdata\u001b[0m\u001b[1;33m,\u001b[0m \u001b[1;33m**\u001b[0m\u001b[0mvariables\u001b[0m\u001b[1;33m,\u001b[0m\u001b[1;33m\u001b[0m\u001b[1;33m\u001b[0m\u001b[0m\n\u001b[0m\u001b[0;32m    703\u001b[0m             )\n\u001b[0;32m    704\u001b[0m \u001b[1;33m\u001b[0m\u001b[0m\n",
      "\u001b[1;32mc:\\Users\\Usuario\\AppData\\Local\\Programs\\Python\\Python37\\lib\\site-packages\\seaborn\\_oldcore.py\u001b[0m in \u001b[0;36m_assign_variables_longform\u001b[1;34m(self, data, **kwargs)\u001b[0m\n\u001b[0;32m    936\u001b[0m \u001b[1;33m\u001b[0m\u001b[0m\n\u001b[0;32m    937\u001b[0m                 \u001b[0merr\u001b[0m \u001b[1;33m=\u001b[0m \u001b[1;34mf\"Could not interpret value `{val}` for parameter `{key}`\"\u001b[0m\u001b[1;33m\u001b[0m\u001b[1;33m\u001b[0m\u001b[0m\n\u001b[1;32m--> 938\u001b[1;33m                 \u001b[1;32mraise\u001b[0m \u001b[0mValueError\u001b[0m\u001b[1;33m(\u001b[0m\u001b[0merr\u001b[0m\u001b[1;33m)\u001b[0m\u001b[1;33m\u001b[0m\u001b[1;33m\u001b[0m\u001b[0m\n\u001b[0m\u001b[0;32m    939\u001b[0m \u001b[1;33m\u001b[0m\u001b[0m\n\u001b[0;32m    940\u001b[0m             \u001b[1;32melse\u001b[0m\u001b[1;33m:\u001b[0m\u001b[1;33m\u001b[0m\u001b[1;33m\u001b[0m\u001b[0m\n",
      "\u001b[1;31mValueError\u001b[0m: Could not interpret value `AÑO` for parameter `x`"
     ]
    },
    {
     "data": {
      "text/plain": [
       "<Figure size 1200x800 with 0 Axes>"
      ]
     },
     "metadata": {},
     "output_type": "display_data"
    }
   ],
   "source": [
    "plt.figure(figsize=(12,8))\n",
    "sns.histplot(data = df_totalemissions, x= \"AÑO\");"
   ]
  }
 ],
 "metadata": {
  "kernelspec": {
   "display_name": "Python 3",
   "language": "python",
   "name": "python3"
  },
  "language_info": {
   "codemirror_mode": {
    "name": "ipython",
    "version": 3
   },
   "file_extension": ".py",
   "mimetype": "text/x-python",
   "name": "python",
   "nbconvert_exporter": "python",
   "pygments_lexer": "ipython3",
   "version": "3.7.4"
  },
  "orig_nbformat": 4
 },
 "nbformat": 4,
 "nbformat_minor": 2
}
