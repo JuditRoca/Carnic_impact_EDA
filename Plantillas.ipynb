{
 "cells": [
  {
   "attachments": {},
   "cell_type": "markdown",
   "metadata": {},
   "source": [
    "### Creacion + guardar graficos"
   ]
  },
  {
   "cell_type": "code",
   "execution_count": null,
   "metadata": {},
   "outputs": [],
   "source": [
    "objeto = agri_car_emision_top\n",
    "columna = \"Emisiones Agricultura\"\n",
    "nombre_archivo = \"Emisiones_pais%_agricultura\"\n",
    "titulo = \"Porcentaje emisiones agricultura por pais\"\n",
    "\n",
    "graf3 = plt.figure(figsize=(12,8)) \n",
    "sns.lineplot(data = objeto)\n",
    "plt.legend(bbox_to_anchor=(1.02, 1), loc='upper left')\n",
    "plt.title(titulo)\n",
    "fig2.savefig('Graficos/{}.png'.format(nombre_archivo), bbox_inches='tight')"
   ]
  },
  {
   "attachments": {},
   "cell_type": "markdown",
   "metadata": {},
   "source": [
    "# Grafica donut x porcentaje"
   ]
  },
  {
   "cell_type": "code",
   "execution_count": null,
   "metadata": {},
   "outputs": [],
   "source": [
    "import matplotlib.pyplot as plt\n",
    "objeto = agri_car_emision_top\n",
    "columna = \"Emisiones Agricultura\"\n",
    "nombre_archivo = \"Emisiones_pais%_agricultura\"\n",
    "titulo = \"Porcentaje emisiones agricultura por pais\"\n",
    "# create data\n",
    "\n",
    "data = (objeto.groupby('Pais')[columna].sum() / objeto[columna].sum()) * 100\n",
    "\n",
    " \n",
    "# # Create a circle for the center of the plot\n",
    "my_circle=plt.Circle( (0,0),\n",
    "                     0.7, # Grosor del donut\n",
    "                     color='white')\n",
    "\n",
    "fig2 = plt.figure(figsize=(8,8))\n",
    "\n",
    "plt.pie(data.values,\n",
    "        labels=data.index,\n",
    "        autopct='%1.2f%%');\n",
    "\n",
    "p=plt.gcf()\n",
    "p.gca().add_artist(my_circle);\n",
    "plt.legend(bbox_to_anchor=(1.02, 1), loc='upper left')\n",
    "plt.title(titulo)\n",
    "fig2.savefig('Graficos/{}.png'.format(nombre_archivo), bbox_inches='tight')"
   ]
  }
 ],
 "metadata": {
  "kernelspec": {
   "display_name": "Python 3",
   "language": "python",
   "name": "python3"
  },
  "language_info": {
   "codemirror_mode": {
    "name": "ipython",
    "version": 3
   },
   "file_extension": ".py",
   "mimetype": "text/x-python",
   "name": "python",
   "nbconvert_exporter": "python",
   "pygments_lexer": "ipython3",
   "version": "3.7.4"
  },
  "orig_nbformat": 4
 },
 "nbformat": 4,
 "nbformat_minor": 2
}
