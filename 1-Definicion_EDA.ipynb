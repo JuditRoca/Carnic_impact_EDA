{
 "cells": [
  {
   "attachments": {},
   "cell_type": "markdown",
   "metadata": {},
   "source": [
    "![imagen](./img/ejercicios.png)"
   ]
  },
  {
   "attachments": {},
   "cell_type": "markdown",
   "metadata": {},
   "source": [
    "# INFORMACIÓN DEL PROYECTO"
   ]
  },
  {
   "attachments": {},
   "cell_type": "markdown",
   "metadata": {},
   "source": [
    "### TÍTULO"
   ]
  },
  {
   "attachments": {},
   "cell_type": "markdown",
   "metadata": {},
   "source": [
    "### Impacto de industria carnica vs agricultura"
   ]
  },
  {
   "attachments": {},
   "cell_type": "markdown",
   "metadata": {},
   "source": [
    "### TEMA"
   ]
  },
  {
   "attachments": {},
   "cell_type": "markdown",
   "metadata": {},
   "source": [
    "En la cultura vegana se defiende fuertemente que la industria carnica es uno de las\n",
    "grandes causas del cambio climatico. Existen informes donde se refleja el consumo de recursos y \n",
    "las emisiones que produce dicha industria pero, cuan dispares son a los generados por \n",
    "la la agricultura?\n",
    "Con este EDA buscamos contrastar las emisiones generadas por ambas industrias para tener una vision mas clara del daño que produce el consumo de productos carnicos, no solo a nuestra salud, sino a al planeta."
   ]
  },
  {
   "attachments": {},
   "cell_type": "markdown",
   "metadata": {},
   "source": [
    "### HIPÓTESIS"
   ]
  },
  {
   "attachments": {},
   "cell_type": "markdown",
   "metadata": {},
   "source": [
    "Define aquí lo que será la hipótesis de tu proyecto.\n",
    "Deberás tener más de una, pero tu proyecto lo harás teniendo una principal hipótesis."
   ]
  },
  {
   "attachments": {},
   "cell_type": "markdown",
   "metadata": {},
   "source": [
    "hipotesis_1 = \"Industria cárnica es la causante del 86% de las emisiones de la industria alimenticia\"\n",
    "\n",
    "hipotesis_2 = \"El 70% de las plantaciones agricolas de la UE se destinan a alimentación de ganado\""
   ]
  },
  {
   "attachments": {},
   "cell_type": "markdown",
   "metadata": {},
   "source": [
    "## OBTENCIÓN DE LOS DATOS"
   ]
  },
  {
   "attachments": {},
   "cell_type": "markdown",
   "metadata": {},
   "source": [
    "### DATASETS Y FUENTES ALTERNATIVAS DE DATOS"
   ]
  },
  {
   "attachments": {},
   "cell_type": "markdown",
   "metadata": {},
   "source": [
    "Incluye aquí una vista del dataset o datasets de los que partirás para poder evaluar tu hipótesis. <br>\n",
    "También incluye el origen de estos datos y su fuente."
   ]
  },
  {
   "cell_type": "code",
   "execution_count": 11,
   "metadata": {},
   "outputs": [],
   "source": [
    "import pandas as pd\n",
    "# guarda en variables los datasets y su fuente\n",
    "url1 = \"https://ec.europa.eu/eurostat/api/dissemination/sdmx/2.1/data/APRO_MT_LSCATL$DEFAULTVIEW/?format=TSV\"\n",
    "df_1 = pd.read_table(url1, ) #bovine population\n",
    "fuente_1 = \"https://ec.europa.eu/eurostat/databrowser/view/APRO_MT_LSCATL/default/table?lang=en\", \"Bovine population\"\n",
    "\n",
    "url2= \"https://ec.europa.eu/eurostat/api/dissemination/sdmx/2.1/data/ENV_AIR_GGE$DV_447/?format=SDMX-CSV&lang=en&label=label_only\"\n",
    "df_2 = pd.read_csv(url2, index_col= \"TIME_PERIOD\") #greenhouse emision agriculture\n",
    "fuente_2 = \"https://ec.europa.eu/eurostat/databrowser/view/TAI08/default/table?lang=en\"\n",
    "\n",
    "\n",
    "df_3=pd.read_csv(\"data/total-ghg-emissions.csv\")\n",
    "fuente_3= \"https://ourworldindata.org/\"  #globaltotalemisions\n",
    "\n",
    "\n"
   ]
  },
  {
   "attachments": {},
   "cell_type": "markdown",
   "metadata": {},
   "source": [
    "Muestra mediante un head() los principales datasets con los que vas a trabajar"
   ]
  },
  {
   "cell_type": "code",
   "execution_count": 3,
   "metadata": {},
   "outputs": [
    {
     "data": {
      "text/html": [
       "<div>\n",
       "<style scoped>\n",
       "    .dataframe tbody tr th:only-of-type {\n",
       "        vertical-align: middle;\n",
       "    }\n",
       "\n",
       "    .dataframe tbody tr th {\n",
       "        vertical-align: top;\n",
       "    }\n",
       "\n",
       "    .dataframe thead th {\n",
       "        text-align: right;\n",
       "    }\n",
       "</style>\n",
       "<table border=\"1\" class=\"dataframe\">\n",
       "  <thead>\n",
       "    <tr style=\"text-align: right;\">\n",
       "      <th></th>\n",
       "      <th>freq,animals,month,unit,geo\\TIME_PERIOD</th>\n",
       "      <th>2013</th>\n",
       "      <th>2014</th>\n",
       "      <th>2015</th>\n",
       "      <th>2016</th>\n",
       "      <th>2017</th>\n",
       "      <th>2018</th>\n",
       "      <th>2019</th>\n",
       "      <th>2020</th>\n",
       "      <th>2021</th>\n",
       "      <th>2022</th>\n",
       "    </tr>\n",
       "  </thead>\n",
       "  <tbody>\n",
       "    <tr>\n",
       "      <th>0</th>\n",
       "      <td>A,A2000,M12,THS_HD,AL</td>\n",
       "      <td>:</td>\n",
       "      <td>499.69</td>\n",
       "      <td>505.77 e</td>\n",
       "      <td>496.99 p</td>\n",
       "      <td>475.22</td>\n",
       "      <td>467.32</td>\n",
       "      <td>415.61</td>\n",
       "      <td>362.58</td>\n",
       "      <td>336.78</td>\n",
       "      <td>:</td>\n",
       "    </tr>\n",
       "    <tr>\n",
       "      <th>1</th>\n",
       "      <td>A,A2000,M12,THS_HD,AT</td>\n",
       "      <td>1958.28</td>\n",
       "      <td>1961.20</td>\n",
       "      <td>1957.61</td>\n",
       "      <td>1954.39</td>\n",
       "      <td>1943.48</td>\n",
       "      <td>1912.81</td>\n",
       "      <td>1879.52</td>\n",
       "      <td>1855.43</td>\n",
       "      <td>1870.10</td>\n",
       "      <td>1861.07</td>\n",
       "    </tr>\n",
       "    <tr>\n",
       "      <th>2</th>\n",
       "      <td>A,A2000,M12,THS_HD,BA</td>\n",
       "      <td>447.00 e</td>\n",
       "      <td>444.00 e</td>\n",
       "      <td>455.00 e</td>\n",
       "      <td>455.00 e</td>\n",
       "      <td>445.00 e</td>\n",
       "      <td>438.00</td>\n",
       "      <td>430.00 e</td>\n",
       "      <td>427.00 e</td>\n",
       "      <td>:</td>\n",
       "      <td>:</td>\n",
       "    </tr>\n",
       "    <tr>\n",
       "      <th>3</th>\n",
       "      <td>A,A2000,M12,THS_HD,BE</td>\n",
       "      <td>2441.32</td>\n",
       "      <td>2477.24</td>\n",
       "      <td>2503.26</td>\n",
       "      <td>2501.35</td>\n",
       "      <td>2385.99</td>\n",
       "      <td>2398.09</td>\n",
       "      <td>2373.10</td>\n",
       "      <td>2335.44</td>\n",
       "      <td>2310.44</td>\n",
       "      <td>2286.11</td>\n",
       "    </tr>\n",
       "    <tr>\n",
       "      <th>4</th>\n",
       "      <td>A,A2000,M12,THS_HD,BG</td>\n",
       "      <td>585.55</td>\n",
       "      <td>562.36</td>\n",
       "      <td>561.04</td>\n",
       "      <td>570.14</td>\n",
       "      <td>552.92 p</td>\n",
       "      <td>542.12</td>\n",
       "      <td>527.19</td>\n",
       "      <td>588.91</td>\n",
       "      <td>611.20</td>\n",
       "      <td>579.86</td>\n",
       "    </tr>\n",
       "  </tbody>\n",
       "</table>\n",
       "</div>"
      ],
      "text/plain": [
       "  freq,animals,month,unit,geo\\TIME_PERIOD     2013      2014      2015   \\\n",
       "0                   A,A2000,M12,THS_HD,AL        :    499.69   505.77 e   \n",
       "1                   A,A2000,M12,THS_HD,AT  1958.28   1961.20   1957.61    \n",
       "2                   A,A2000,M12,THS_HD,BA  447.00 e  444.00 e  455.00 e   \n",
       "3                   A,A2000,M12,THS_HD,BE  2441.32   2477.24   2503.26    \n",
       "4                   A,A2000,M12,THS_HD,BG   585.55    562.36    561.04    \n",
       "\n",
       "      2016      2017      2018      2019      2020      2021      2022   \n",
       "0  496.99 p   475.22    467.32    415.61    362.58    336.78         :   \n",
       "1  1954.39   1943.48   1912.81   1879.52   1855.43   1870.10   1861.07   \n",
       "2  455.00 e  445.00 e   438.00   430.00 e  427.00 e        :         :   \n",
       "3  2501.35   2385.99   2398.09   2373.10   2335.44   2310.44   2286.11   \n",
       "4   570.14   552.92 p   542.12    527.19    588.91    611.20    579.86   "
      ]
     },
     "execution_count": 3,
     "metadata": {},
     "output_type": "execute_result"
    }
   ],
   "source": [
    "df_1.head()"
   ]
  },
  {
   "cell_type": "code",
   "execution_count": 7,
   "metadata": {},
   "outputs": [
    {
     "data": {
      "text/html": [
       "<div>\n",
       "<style scoped>\n",
       "    .dataframe tbody tr th:only-of-type {\n",
       "        vertical-align: middle;\n",
       "    }\n",
       "\n",
       "    .dataframe tbody tr th {\n",
       "        vertical-align: top;\n",
       "    }\n",
       "\n",
       "    .dataframe thead th {\n",
       "        text-align: right;\n",
       "    }\n",
       "</style>\n",
       "<table border=\"1\" class=\"dataframe\">\n",
       "  <thead>\n",
       "    <tr style=\"text-align: right;\">\n",
       "      <th></th>\n",
       "      <th>DATAFLOW</th>\n",
       "      <th>LAST UPDATE</th>\n",
       "      <th>freq</th>\n",
       "      <th>unit</th>\n",
       "      <th>airpol</th>\n",
       "      <th>src_crf</th>\n",
       "      <th>geo</th>\n",
       "      <th>OBS_VALUE</th>\n",
       "      <th>OBS_FLAG</th>\n",
       "    </tr>\n",
       "    <tr>\n",
       "      <th>TIME_PERIOD</th>\n",
       "      <th></th>\n",
       "      <th></th>\n",
       "      <th></th>\n",
       "      <th></th>\n",
       "      <th></th>\n",
       "      <th></th>\n",
       "      <th></th>\n",
       "      <th></th>\n",
       "      <th></th>\n",
       "    </tr>\n",
       "  </thead>\n",
       "  <tbody>\n",
       "    <tr>\n",
       "      <th>2012</th>\n",
       "      <td>ESTAT:ENV_AIR_GGE$DV_447(1.0)</td>\n",
       "      <td>28/04/23 23:00:00</td>\n",
       "      <td>Annual</td>\n",
       "      <td>Million tonnes</td>\n",
       "      <td>Greenhouse gases (CO2, N2O in CO2 equivalent, ...</td>\n",
       "      <td>Agriculture</td>\n",
       "      <td>Austria</td>\n",
       "      <td>7.21242</td>\n",
       "      <td>NaN</td>\n",
       "    </tr>\n",
       "    <tr>\n",
       "      <th>2013</th>\n",
       "      <td>ESTAT:ENV_AIR_GGE$DV_447(1.0)</td>\n",
       "      <td>28/04/23 23:00:00</td>\n",
       "      <td>Annual</td>\n",
       "      <td>Million tonnes</td>\n",
       "      <td>Greenhouse gases (CO2, N2O in CO2 equivalent, ...</td>\n",
       "      <td>Agriculture</td>\n",
       "      <td>Austria</td>\n",
       "      <td>7.21117</td>\n",
       "      <td>NaN</td>\n",
       "    </tr>\n",
       "    <tr>\n",
       "      <th>2014</th>\n",
       "      <td>ESTAT:ENV_AIR_GGE$DV_447(1.0)</td>\n",
       "      <td>28/04/23 23:00:00</td>\n",
       "      <td>Annual</td>\n",
       "      <td>Million tonnes</td>\n",
       "      <td>Greenhouse gases (CO2, N2O in CO2 equivalent, ...</td>\n",
       "      <td>Agriculture</td>\n",
       "      <td>Austria</td>\n",
       "      <td>7.34622</td>\n",
       "      <td>NaN</td>\n",
       "    </tr>\n",
       "    <tr>\n",
       "      <th>2015</th>\n",
       "      <td>ESTAT:ENV_AIR_GGE$DV_447(1.0)</td>\n",
       "      <td>28/04/23 23:00:00</td>\n",
       "      <td>Annual</td>\n",
       "      <td>Million tonnes</td>\n",
       "      <td>Greenhouse gases (CO2, N2O in CO2 equivalent, ...</td>\n",
       "      <td>Agriculture</td>\n",
       "      <td>Austria</td>\n",
       "      <td>7.37600</td>\n",
       "      <td>NaN</td>\n",
       "    </tr>\n",
       "    <tr>\n",
       "      <th>2016</th>\n",
       "      <td>ESTAT:ENV_AIR_GGE$DV_447(1.0)</td>\n",
       "      <td>28/04/23 23:00:00</td>\n",
       "      <td>Annual</td>\n",
       "      <td>Million tonnes</td>\n",
       "      <td>Greenhouse gases (CO2, N2O in CO2 equivalent, ...</td>\n",
       "      <td>Agriculture</td>\n",
       "      <td>Austria</td>\n",
       "      <td>7.48882</td>\n",
       "      <td>NaN</td>\n",
       "    </tr>\n",
       "  </tbody>\n",
       "</table>\n",
       "</div>"
      ],
      "text/plain": [
       "                                  DATAFLOW        LAST UPDATE    freq  \\\n",
       "TIME_PERIOD                                                             \n",
       "2012         ESTAT:ENV_AIR_GGE$DV_447(1.0)  28/04/23 23:00:00  Annual   \n",
       "2013         ESTAT:ENV_AIR_GGE$DV_447(1.0)  28/04/23 23:00:00  Annual   \n",
       "2014         ESTAT:ENV_AIR_GGE$DV_447(1.0)  28/04/23 23:00:00  Annual   \n",
       "2015         ESTAT:ENV_AIR_GGE$DV_447(1.0)  28/04/23 23:00:00  Annual   \n",
       "2016         ESTAT:ENV_AIR_GGE$DV_447(1.0)  28/04/23 23:00:00  Annual   \n",
       "\n",
       "                       unit  \\\n",
       "TIME_PERIOD                   \n",
       "2012         Million tonnes   \n",
       "2013         Million tonnes   \n",
       "2014         Million tonnes   \n",
       "2015         Million tonnes   \n",
       "2016         Million tonnes   \n",
       "\n",
       "                                                        airpol      src_crf  \\\n",
       "TIME_PERIOD                                                                   \n",
       "2012         Greenhouse gases (CO2, N2O in CO2 equivalent, ...  Agriculture   \n",
       "2013         Greenhouse gases (CO2, N2O in CO2 equivalent, ...  Agriculture   \n",
       "2014         Greenhouse gases (CO2, N2O in CO2 equivalent, ...  Agriculture   \n",
       "2015         Greenhouse gases (CO2, N2O in CO2 equivalent, ...  Agriculture   \n",
       "2016         Greenhouse gases (CO2, N2O in CO2 equivalent, ...  Agriculture   \n",
       "\n",
       "                 geo  OBS_VALUE OBS_FLAG  \n",
       "TIME_PERIOD                               \n",
       "2012         Austria    7.21242      NaN  \n",
       "2013         Austria    7.21117      NaN  \n",
       "2014         Austria    7.34622      NaN  \n",
       "2015         Austria    7.37600      NaN  \n",
       "2016         Austria    7.48882      NaN  "
      ]
     },
     "execution_count": 7,
     "metadata": {},
     "output_type": "execute_result"
    }
   ],
   "source": [
    "df_2.head()\n"
   ]
  },
  {
   "cell_type": "code",
   "execution_count": 14,
   "metadata": {},
   "outputs": [
    {
     "data": {
      "text/html": [
       "<div>\n",
       "<style scoped>\n",
       "    .dataframe tbody tr th:only-of-type {\n",
       "        vertical-align: middle;\n",
       "    }\n",
       "\n",
       "    .dataframe tbody tr th {\n",
       "        vertical-align: top;\n",
       "    }\n",
       "\n",
       "    .dataframe thead th {\n",
       "        text-align: right;\n",
       "    }\n",
       "</style>\n",
       "<table border=\"1\" class=\"dataframe\">\n",
       "  <thead>\n",
       "    <tr style=\"text-align: right;\">\n",
       "      <th></th>\n",
       "      <th>Entity</th>\n",
       "      <th>Code</th>\n",
       "      <th>Year</th>\n",
       "      <th>Annual greenhouse gas emissions in CO2 equivalents</th>\n",
       "    </tr>\n",
       "  </thead>\n",
       "  <tbody>\n",
       "    <tr>\n",
       "      <th>0</th>\n",
       "      <td>Afghanistan</td>\n",
       "      <td>AFG</td>\n",
       "      <td>1850</td>\n",
       "      <td>7299493.5</td>\n",
       "    </tr>\n",
       "    <tr>\n",
       "      <th>1</th>\n",
       "      <td>Afghanistan</td>\n",
       "      <td>AFG</td>\n",
       "      <td>1851</td>\n",
       "      <td>7373215.0</td>\n",
       "    </tr>\n",
       "    <tr>\n",
       "      <th>2</th>\n",
       "      <td>Afghanistan</td>\n",
       "      <td>AFG</td>\n",
       "      <td>1852</td>\n",
       "      <td>7422393.5</td>\n",
       "    </tr>\n",
       "    <tr>\n",
       "      <th>3</th>\n",
       "      <td>Afghanistan</td>\n",
       "      <td>AFG</td>\n",
       "      <td>1853</td>\n",
       "      <td>7483596.0</td>\n",
       "    </tr>\n",
       "    <tr>\n",
       "      <th>4</th>\n",
       "      <td>Afghanistan</td>\n",
       "      <td>AFG</td>\n",
       "      <td>1854</td>\n",
       "      <td>7532321.5</td>\n",
       "    </tr>\n",
       "  </tbody>\n",
       "</table>\n",
       "</div>"
      ],
      "text/plain": [
       "        Entity Code  Year  Annual greenhouse gas emissions in CO2 equivalents\n",
       "0  Afghanistan  AFG  1850                                          7299493.5 \n",
       "1  Afghanistan  AFG  1851                                          7373215.0 \n",
       "2  Afghanistan  AFG  1852                                          7422393.5 \n",
       "3  Afghanistan  AFG  1853                                          7483596.0 \n",
       "4  Afghanistan  AFG  1854                                          7532321.5 "
      ]
     },
     "execution_count": 14,
     "metadata": {},
     "output_type": "execute_result"
    }
   ],
   "source": [
    "df_3.head()\n"
   ]
  }
 ],
 "metadata": {
  "kernelspec": {
   "display_name": "Python 3.7.4 64-bit",
   "language": "python",
   "name": "python3"
  },
  "language_info": {
   "codemirror_mode": {
    "name": "ipython",
    "version": 3
   },
   "file_extension": ".py",
   "mimetype": "text/x-python",
   "name": "python",
   "nbconvert_exporter": "python",
   "pygments_lexer": "ipython3",
   "version": "3.7.4"
  },
  "orig_nbformat": 4,
  "vscode": {
   "interpreter": {
    "hash": "90139cb9a825bf3d63f6f6704e828dbd1ff7edbd4d0c6e906a71235d6efc74af"
   }
  }
 },
 "nbformat": 4,
 "nbformat_minor": 2
}
