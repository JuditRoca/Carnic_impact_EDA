{
 "cells": [
  {
   "attachments": {},
   "cell_type": "markdown",
   "metadata": {},
   "source": [
    "![portada](./data/portada_EDA.jpg)"
   ]
  },
  {
   "attachments": {},
   "cell_type": "markdown",
   "metadata": {},
   "source": [
    "# Proyecto EDA Judit Roca \n",
    "\n",
    "En este Notebook describiremos de forma sencilla el proceso de limpieza de datos que hemos realizado asi como las conclusiones a las que hemos llegado.\n",
    "\n",
    "1. [Introducción](#1.-Introduccion)\n",
    "2. [Hipótesis](#2.-Hipotesis)\n",
    "3. [Recogida de datos](#3.-Recogida-de-datos)\n",
    "4. [Atributos del array](#4.-Atributos-del-array)\n",
    "5. [Slicing y subarrays](#6.-Slicing-y-subarrays)\n",
    "6. [Slicing y subarrays](#6.-Slicing-y-subarrays)\n",
    "7. [Slicing y subarrays](#6.-Slicing-y-subarrays)"
   ]
  },
  {
   "attachments": {},
   "cell_type": "markdown",
   "metadata": {},
   "source": [
    "## 1. Introduccion\n",
    "\n",
    "En la cultura vegana se defiende fuertemente que la industria carnica es uno de las\n",
    "grandes causas del cambio climatico. Existen informes donde se refleja el consumo de recursos y \n",
    "las emisiones que produce dicha industria pero, cuan dispares son a los generados por \n",
    "la la agricultura?\n",
    "Con este EDA buscamos contrastar las emisiones generadas por ambas industrias para tener una vision mas clara del daño que produce el consumo de productos carnicos, no solo a nuestra salud, sino a al planeta."
   ]
  },
  {
   "attachments": {},
   "cell_type": "markdown",
   "metadata": {},
   "source": [
    "## 2. Hipotesis\n",
    "\n",
    "hipotesis_1 = \"Industria cárnica es la causante del 86% de las emisiones de la industria alimenticia\"\n",
    "\n",
    "hipotesis_2 = \"El 70% de las plantaciones agricolas de la UE se destinan a alimentación de ganado\""
   ]
  },
  {
   "attachments": {},
   "cell_type": "markdown",
   "metadata": {},
   "source": [
    "## 3. Recogida de datos\n",
    "\n",
    "Durante la recogida de datos se han consultado varias fuentes, decidiendonos finalmente por los siguientes data sets. \n",
    "\n",
    "**1.1.Población Bovina**\n",
    "\n",
    "Este data set recoge la población bovina por paises. Con estos datos buscamos contrastar si una mayor poblacion bovina realmente contribuye a una mayor emisión de gases.  \n",
    "\n",
    "Unidad de medida: miles  \n",
    "\n",
    "Fuente: [Eurostat](https://ec.europa.eu/eurostat/databrowser/view/APRO_MT_LSCATL/default/table?lang=en)\n",
    "\n",
    "**1.2.Emisiones efecto invernadero por agricultura**\n",
    "\n",
    "Este data set recoge las emisiones que produce la agricultura. \n",
    "\n",
    "Fuente:  [Eurostat](https://ec.europa.eu/eurostat/databrowser/view/TAI08/default/table?lang=en)\n",
    "\n",
    "**1.3.Emisiones efecto invernadero globales**\n",
    "\n",
    "Recogemos también las emisiones globales, para contrastar el impacto de la agricultura sobre las emisiones totales.\n",
    "\n",
    "Fuente:  [Our World in Data](https://ourworldindata.org/)"
   ]
  },
  {
   "attachments": {},
   "cell_type": "markdown",
   "metadata": {},
   "source": [
    "una vez comenzada la limpiza de datos decidimos dividirlos en dos categorias, los de menor poblacion bovina/menores emisiones, y los de alta, quedando la siguiente estructrura.\n",
    "\n",
    "Paises con BAJA pob: Czechia', 'Denmark', 'Finland', 'Slovenia', 'Slovakia', 'Greece',\n",
    "                    'Hungary', 'Bulgaria', 'Croatia', 'Cyprus', 'Estonia', 'Iceland',\n",
    "                    'Latvia', 'Luxembourg', 'Malta'\n",
    "\n",
    "\n",
    "Paises con ALTA pob: 'Austria', 'Belgium', 'France',\n",
    "                    'Germany (until 1990 former territory of the FRG)', 'Ireland', 'Italy',\n",
    "                    'Lithuania', 'Netherlands', 'Poland', 'Portugal', 'Romania', 'Spain',\n",
    "                    'Sweden', 'Switzerland'"
   ]
  }
 ],
 "metadata": {
  "language_info": {
   "name": "python"
  },
  "orig_nbformat": 4
 },
 "nbformat": 4,
 "nbformat_minor": 2
}
