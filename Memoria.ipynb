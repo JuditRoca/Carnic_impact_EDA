{
 "cells": [
  {
   "attachments": {},
   "cell_type": "markdown",
   "metadata": {},
   "source": [
    "![portada](./data/portada_EDA.jpg)"
   ]
  },
  {
   "attachments": {},
   "cell_type": "markdown",
   "metadata": {},
   "source": [
    "# Proyecto EDA Judit Roca \n",
    "\n",
    "En este Notebook describiremos de forma sencilla el proceso de limpieza de datos que hemos realizado asi como las conclusiones a las que hemos llegado.\n",
    "\n",
    "1. [Introducción](#1.-Introduccion)\n",
    "2. [Hipótesis](#2.-Hipotesis)\n",
    "3. [Metodología](#3.-Metodologia)\n",
    "4. [Acotación de datos](#4.-Acotacion-de-datos)\n",
    "5. [Descripción de las variables](#5.-Descripcion-de-las-variables)\n",
    "6. [Slicing y subarrays](#6.-Slicing-y-subarrays)\n"
   ]
  },
  {
   "attachments": {},
   "cell_type": "markdown",
   "metadata": {},
   "source": [
    "## 1. Introduccion\n",
    "\n",
    "En la cultura vegana se defiende fuertemente que la industria carnica es uno de las\n",
    "grandes causas del cambio climatico. Existen informes donde se refleja el consumo de recursos y \n",
    "las emisiones que produce dicha industria pero, cuan dispares son a los generados por \n",
    "la la agricultura?\n",
    "Con este EDA buscamos contrastar las emisiones generadas por ambas industrias para tener una vision mas clara del daño que produce el consumo de productos carnicos, no solo a nuestra salud, sino a al planeta."
   ]
  },
  {
   "attachments": {},
   "cell_type": "markdown",
   "metadata": {},
   "source": [
    "## 2. Hipotesis\n",
    "\n",
    "hipotesis_1 = \"Industria cárnica es la causante del 86% de las emisiones de la industria alimenticia\"\n",
    "\n",
    "hipotesis_2 = \"El 70% de las plantaciones agricolas de la UE se destinan a alimentación de ganado\""
   ]
  },
  {
   "attachments": {},
   "cell_type": "markdown",
   "metadata": {},
   "source": [
    "## 3. Metodologia\n",
    "\n",
    "### 3.1. Recogida de datos\n",
    "\n",
    "\n",
    "Durante la recogida de datos se han consultado varias fuentes, decidiendonos finalmente por los siguientes data sets. \n",
    "\n",
    "**1.1.Población Bovina**\n",
    "\n",
    "Este data set recoge la población bovina por paises. Con estos datos buscamos contrastar si una mayor poblacion bovina realmente contribuye a una mayor emisión de gases.  \n",
    "\n",
    "Unidad de medida: miles  \n",
    "\n",
    "Fuente: [Eurostat](https://ec.europa.eu/eurostat/databrowser/view/APRO_MT_LSCATL/default/table?lang=en)\n",
    "\n",
    "**1.2.Emisiones efecto invernadero por agricultura**\n",
    "\n",
    "Este data set recoge las emisiones que produce la agricultura. \n",
    "\n",
    "Fuente:  [Eurostat](https://ec.europa.eu/eurostat/databrowser/view/TAI08/default/table?lang=en)\n",
    "\n",
    "**1.3.Emisiones efecto invernadero globales**\n",
    "\n",
    "Recogemos también las emisiones globales, para contrastar el impacto de la agricultura sobre las emisiones totales.\n",
    "\n",
    "\n",
    "Fuente:  [Our World in Data](https://ourworldindata.org/)\n"
   ]
  },
  {
   "attachments": {},
   "cell_type": "markdown",
   "metadata": {},
   "source": [
    "## 4. Acotacion de datos"
   ]
  },
  {
   "attachments": {},
   "cell_type": "markdown",
   "metadata": {},
   "source": [
    "Una vez comenzada la limpiza de datos decidimos comenzar las visualizaciones."
   ]
  },
  {
   "attachments": {},
   "cell_type": "markdown",
   "metadata": {},
   "source": [
    "![Ejemplo de imagen](Graficos\\POb_Alta_Bovina.png)\n"
   ]
  },
  {
   "attachments": {},
   "cell_type": "markdown",
   "metadata": {},
   "source": [
    "Para poder observar mas en pronfundidad los datos, dividimos entre dos tendencias, población alta y baja. \n",
    "\n",
    "--Paises con BAJA pob: Czechia', 'Denmark', 'Finland', 'Slovenia', 'Slovakia', 'Greece',\n",
    "                    'Hungary', 'Bulgaria', 'Croatia', 'Cyprus', 'Estonia', 'Iceland',\n",
    "                    'Latvia', 'Luxembourg', 'Malta'\n",
    "\n",
    "\n",
    "--Paises con ALTA pob: 'Austria', 'Belgium', 'France',\n",
    "                    'Germany (until 1990 former territory of the FRG)', 'Ireland', 'Italy',\n",
    "                    'Lithuania', 'Netherlands', 'Poland', 'Portugal', 'Romania', 'Spain',\n",
    "                    'Sweden', 'Switzerland'"
   ]
  },
  {
   "attachments": {},
   "cell_type": "markdown",
   "metadata": {},
   "source": [
    "![Poblacion alta](Graficos\\POb_Alta_Bovina.png)"
   ]
  },
  {
   "attachments": {},
   "cell_type": "markdown",
   "metadata": {},
   "source": [
    "Finalmente, centramos las próximas representaciónes en los seis paises con mayor población bovina.\n",
    "\n",
    "        - Francia.\n",
    "        - Alemania.\n",
    "        - Irlanda.\n",
    "        - Italia.\n",
    "        - España.\n",
    "        - Polonia."
   ]
  },
  {
   "attachments": {},
   "cell_type": "markdown",
   "metadata": {},
   "source": [
    "## 5. Descripcion de las variables.\n",
    "\n"
   ]
  },
  {
   "attachments": {},
   "cell_type": "markdown",
   "metadata": {},
   "source": [
    "1. **País**\n",
    "\n",
    "    - Descripción: Nombre del país del que se obtuvieron los datos de emisiones.\n",
    "    - Características: Variable categórica nominal.\n",
    "    - Importancia: Permite analizar y comparar las emisiones entre diferentes países y evaluar posibles diferencias o patrones.\n",
    "\n",
    "2. **Año**\n",
    "\n",
    "    - Descripción: Año en el que se registraron las emisiones.\n",
    "    - Características: Variable numérica discreta.\n",
    "    - Importancia: Permite analizar las tendencias y cambios en las emisiones de la industria cárnica a lo largo del tiempo, identificando posibles patrones estacionales o cambios a largo plazo.\n",
    "    \n",
    "\n",
    "3. **Emisiones de Agricultura**\n",
    "\n",
    "    - Descripción: Medida de las emisiones de gases de efecto invernadero producidas por la agricultura relacionada con la industria cárnica.\n",
    "    - Características: Variable numérica continua.\n",
    "    - Importancia: Permite evaluar el impacto ambiental de las prácticas agrícolas utilizadas en la producción de alimentos para la industria cárnica y su contribución a las emisiones totales.\n",
    "\n",
    "4. **Emisiones Cárnicos**\n",
    "\n",
    "    - Descripción: Medida de las emisiones de gases de efecto invernadero producidas directamente por la industria cárnica, incluyendo la producción y procesamiento de carne.\n",
    "    - Características: Variable numérica continua.\n",
    "    - Importancia: Permite evaluar el impacto ambiental directo de la industria cárnica y su contribución a las emisiones totales.\n",
    "\n",
    "5. **Población Bovina**\n",
    "\n",
    "    - Descripción: Número de ganado bovino en un país.\n",
    "    - Características: Variable numérica discreta.\n",
    "    - Importancia: Permite evaluar la escala de la industria cárnica en términos de la cantidad de ganado bovino involucrado. Una mayor población bovina puede indicar una mayor producción de carne y, potencialmente, mayores emisiones asociadas.\n"
   ]
  },
  {
   "attachments": {},
   "cell_type": "markdown",
   "metadata": {},
   "source": [
    "## 6. Resultados y conclusiones."
   ]
  },
  {
   "attachments": {},
   "cell_type": "markdown",
   "metadata": {},
   "source": [
    "Una vez declarados los cinco paises principales, pasamos a identificar el peso de emisiones que tiene cada uno.\n"
   ]
  },
  {
   "attachments": {},
   "cell_type": "markdown",
   "metadata": {},
   "source": [
    "![porcentaje emisiones por pais agricultura](Graficos\\Emisiones_pais%_agricultura.png)"
   ]
  },
  {
   "attachments": {},
   "cell_type": "markdown",
   "metadata": {},
   "source": [
    "![porcentaje emisiones por pais carnicos](Graficos\\Emisiones_pais%_carne.png)"
   ]
  },
  {
   "attachments": {},
   "cell_type": "markdown",
   "metadata": {},
   "source": [
    "Las gráficas muestran el porcentaje de las emisiones cárnicas y agricolas por país, donde se observa que Francia tiene el mayor porcentaje con un 37.29%, seguido de España con un 20.20%, Polonia con un 13.61%, Italia con un 16.46% e Irlanda con un 12.43%.\n",
    "\n",
    "Estos porcentajes reflejan la contribución relativa de cada país a las emisiones totales de la industria cárnica. Francia, al tener el porcentaje más alto, indica que es uno de los principales contribuyentes a las emisiones tanto agricolas como cárnicas en el conjunto de países analizados.\n",
    "\n",
    "La diferencia en los porcentajes entre los países puede estar influenciada por varios factores, como el tamaño de la población bovina, los sistemas de producción ganadera, las prácticas agrícolas y ganaderas utilizadas, así como la eficiencia de los procesos de producción de carne en términos de emisiones de gases de efecto invernadero.\n",
    "\n",
    "Recordemos también que esta distribución se daba a la hora de contabilizar la población bovina de cada país."
   ]
  },
  {
   "attachments": {},
   "cell_type": "markdown",
   "metadata": {},
   "source": [
    "Pasemos entonces a valorar la correlación entre los dos tipos de emisiones.\n"
   ]
  },
  {
   "attachments": {},
   "cell_type": "markdown",
   "metadata": {},
   "source": [
    "![correlacion](Graficos\\correlacion_care_agr.png)"
   ]
  },
  {
   "attachments": {},
   "cell_type": "markdown",
   "metadata": {},
   "source": [
    "Una correlación de 0.97 entre las emisiones de agricultura y las emisiones cárnicas indica una fuerte relación positiva entre estas dos variables. Esto significa que a medida que aumentan las emisiones de agricultura, también aumentan las emisiones cárnicas, y viceversa.\n",
    "\n",
    "Esta alta correlación puede ser explicada por varios factores. Por ejemplo, la producción de alimentos para la industria cárnica a menudo requiere prácticas agrícolas intensivas, como el cultivo de piensos y forrajes para el ganado. Estas prácticas agrícolas pueden generar emisiones de gases de efecto invernadero, como el dióxido de carbono (CO2) y el óxido nitroso (N2O), debido al uso de fertilizantes, la fermentación de los cultivos y la gestión de residuos agrícolas.\n",
    "\n",
    "Además, la cría de ganado en sí misma puede ser una fuente significativa de emisiones de gases de efecto invernadero, especialmente debido a la liberación de metano (CH4) durante la digestión y la gestión de los desechos animales.\n",
    "\n",
    "Dado que las emisiones de agricultura y las emisiones cárnicas están estrechamente relacionadas, es importante considerar estrategias de mitigación y prácticas sostenibles en ambos sectores para reducir su impacto ambiental. Esto puede incluir el uso de técnicas agrícolas más eficientes, la implementación de prácticas de manejo de residuos más efectivas y la promoción de dietas y sistemas de producción más sostenibles en la industria cárnica."
   ]
  },
  {
   "attachments": {},
   "cell_type": "markdown",
   "metadata": {},
   "source": [
    "![emito](Graficos\\Top_paises_emi_carnica.png)"
   ]
  },
  {
   "cell_type": "code",
   "execution_count": null,
   "metadata": {},
   "outputs": [],
   "source": []
  },
  {
   "attachments": {},
   "cell_type": "markdown",
   "metadata": {},
   "source": [
    "Es importante destacar que estos porcentajes representan una instantánea de las emisiones cárnicas en un momento específico y pueden variar a lo largo del tiempo debido a cambios en las políticas ambientales, avances tecnológicos, mejoras en las prácticas agrícolas y ganaderas, entre otros factores.\n",
    "\n",
    "Para reducir el impacto ambiental de las emisiones cárnicas, es crucial que los países implementen estrategias de mitigación y transición hacia sistemas de producción más sostenibles, como la adopción de prácticas agrícolas y ganaderas de bajas emisiones, la promoción de dietas más equilibradas y la mejora de la eficiencia en toda la cadena de suministro de carne."
   ]
  }
 ],
 "metadata": {
  "kernelspec": {
   "display_name": "Python 3",
   "language": "python",
   "name": "python3"
  },
  "language_info": {
   "codemirror_mode": {
    "name": "ipython",
    "version": 3
   },
   "file_extension": ".py",
   "mimetype": "text/x-python",
   "name": "python",
   "nbconvert_exporter": "python",
   "pygments_lexer": "ipython3",
   "version": "3.7.4"
  },
  "orig_nbformat": 4
 },
 "nbformat": 4,
 "nbformat_minor": 2
}
